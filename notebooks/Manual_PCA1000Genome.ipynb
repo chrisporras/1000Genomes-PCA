{
 "cells": [
  {
   "cell_type": "markdown",
   "metadata": {},
   "source": [
    "In this document, we have code to\n",
    "\n",
    "* Translate code in the form of vcf written by the 1000 Genome people to the raw sequences\n",
    "* Compare these sequences with reference sequences to create matrices of allele frequency \n",
    "* Run PCA analysis on these matrices\n"
   ]
  },
  {
   "cell_type": "code",
   "execution_count": 1,
   "metadata": {},
   "outputs": [
    {
     "name": "stderr",
     "output_type": "stream",
     "text": [
      "/Users/cporras/anaconda3/lib/python3.6/site-packages/h5py/__init__.py:36: FutureWarning: Conversion of the second argument of issubdtype from `float` to `np.floating` is deprecated. In future, it will be treated as `np.float64 == np.dtype(float).type`.\n",
      "  from ._conv import register_converters as _register_converters\n"
     ]
    }
   ],
   "source": [
    "### Manual PCA Analysis\n",
    "### BIOS 26211 Final Project\n",
    "### Bruno Petrucci and Christian Porras\n",
    "\n",
    "import numpy as np\n",
    "import matplotlib.pyplot as plt\n",
    "%matplotlib inline \n",
    "import allel\n",
    "from sklearn.decomposition import PCA\n",
    "import pandas as pd\n",
    "from mpl_toolkits import mplot3d"
   ]
  },
  {
   "cell_type": "markdown",
   "metadata": {},
   "source": [
    "Following is the code originally created to simulate some random sequences to test the rest of the code"
   ]
  },
  {
   "cell_type": "code",
   "execution_count": 2,
   "metadata": {},
   "outputs": [],
   "source": [
    "### First create some Reference Sequence just to test the code\n",
    "Nucleotides = ['A', 'T', 'C', 'G']\n",
    "ReferenceSequence1 = np.array([np.random.choice(Nucleotides, 10, p=[0.25, 0.25, 0.25, 0.25])])\n",
    "ReferenceSequence2 = np.array([np.random.choice(Nucleotides, 10, p=[0.25, 0.25, 0.25, 0.25])])\n",
    "ReferenceSequence = np.append(ReferenceSequence1, ReferenceSequence2, axis=0)\n",
    "# Of course it's unrealistic for both of them to be random but it's just for testing - this will be the reference\n",
    "\n",
    "### Create some random sequence to compare\n",
    "AnalysisSequence1 = np.array([np.random.choice(Nucleotides, 10, p=[0.25, 0.25, 0.25, 0.25])])\n",
    "AnalysisSequence2 = np.array([np.random.choice(Nucleotides, 10, p=[0.25, 0.25, 0.25, 0.25])])\n",
    "AnalysisSequence = np.append(AnalysisSequence1, AnalysisSequence2, axis=0)"
   ]
  },
  {
   "cell_type": "markdown",
   "metadata": {},
   "source": [
    "Here is the function that transforms sequences into matrices with 0, 1 and 2."
   ]
  },
  {
   "cell_type": "code",
   "execution_count": 3,
   "metadata": {},
   "outputs": [],
   "source": [
    "### Define the function that transforms the sequence into a PCA-ble matrix\n",
    "def TransformSequence(Sequence, Reference):\n",
    "    Transform = np.zeros(Sequence.shape[1])\n",
    "    for i in range(Sequence.shape[1]):\n",
    "        if (Sequence[0][i] == Reference[0][i] and Sequence[1][i] == Reference[1][i]) or (Sequence[0][i] == Reference[1][i] and Sequence[1][i] == Reference[0][i]):\n",
    "            Transform[i] = 0\n",
    "        elif Sequence[0][i] == Reference[0][i] or Sequence[1][i] == Reference[1][i] or Sequence[0][i] == Reference[1][i] or Sequence[1][i] == Reference[0][i]:\n",
    "            Transform[i] = 1\n",
    "        else:\n",
    "            Transform[i] = 2\n",
    "        \n",
    "    return Transform"
   ]
  },
  {
   "cell_type": "code",
   "execution_count": 4,
   "metadata": {},
   "outputs": [
    {
     "name": "stdout",
     "output_type": "stream",
     "text": [
      "[['A' 'G' 'T' 'G' 'A' 'T' 'T' 'A' 'C' 'T']\n",
      " ['T' 'C' 'G' 'G' 'A' 'G' 'A' 'G' 'A' 'C']]\n",
      "[['G' 'A' 'T' 'G' 'T' 'T' 'T' 'C' 'C' 'C']\n",
      " ['G' 'C' 'C' 'T' 'T' 'T' 'T' 'A' 'T' 'C']]\n",
      "[2. 1. 1. 1. 2. 1. 1. 1. 1. 1.]\n"
     ]
    }
   ],
   "source": [
    "### Test for the sequences generated above\n",
    "print(ReferenceSequence)\n",
    "print(AnalysisSequence)\n",
    "TransformedSequence = TransformSequence(AnalysisSequence, ReferenceSequence)\n",
    "print(TransformedSequence)"
   ]
  },
  {
   "cell_type": "code",
   "execution_count": 5,
   "metadata": {},
   "outputs": [
    {
     "name": "stdout",
     "output_type": "stream",
     "text": [
      "[[2. 1. 1. 1. 2. 1. 1. 1. 1. 1.]\n",
      " [2. 2. 2. 0. 2. 2. 2. 1. 2. 1.]\n",
      " [2. 2. 1. 0. 2. 2. 2. 1. 1. 1.]\n",
      " [2. 2. 1. 2. 2. 2. 1. 2. 1. 2.]\n",
      " [2. 2. 1. 2. 2. 1. 1. 1. 1. 1.]\n",
      " [2. 1. 2. 2. 2. 2. 1. 2. 2. 1.]\n",
      " [1. 2. 1. 2. 2. 2. 1. 1. 1. 2.]\n",
      " [2. 2. 1. 2. 2. 2. 2. 2. 1. 1.]\n",
      " [2. 1. 2. 2. 0. 2. 2. 2. 1. 1.]\n",
      " [2. 1. 2. 2. 0. 2. 2. 1. 2. 2.]]\n"
     ]
    }
   ],
   "source": [
    "### Generate a bunch of sequences to test the PCA analysis\n",
    "SequencesGenerated = 10\n",
    "Sequences = np.array([AnalysisSequence for i in range(SequencesGenerated)])\n",
    "\n",
    "for i in range(1,SequencesGenerated):\n",
    "    NewSequence = np.array([np.random.choice(Nucleotides, 10, p=[0.25, 0.25, 0.25, 0.25])])\n",
    "    Sequences[:][:][i] = NewSequence\n",
    "\n",
    "TransformedSequences = np.zeros((SequencesGenerated, Sequences.shape[2]))\n",
    "\n",
    "for i in range(SequencesGenerated):\n",
    "    TransformedSequences[i,:] = TransformSequence(Sequences[i,:,:], ReferenceSequence)\n",
    "\n",
    "print(TransformedSequences)"
   ]
  },
  {
   "cell_type": "markdown",
   "metadata": {},
   "source": [
    "Now we have the actual 1000 genome data, where we will translate and run PCA on"
   ]
  },
  {
   "cell_type": "code",
   "execution_count": 7,
   "metadata": {},
   "outputs": [],
   "source": [
    "### Get the actual 1000 Genome 21st Chromosome data\n",
    "callset = allel.read_vcf('../data/ALL.chr21.phase3_shapeit2_mvncall_integrated_v5a.20130502.genotypes.vcf.gz')"
   ]
  },
  {
   "cell_type": "markdown",
   "metadata": {},
   "source": [
    "In the callset we only have the genotype matrix, so we write code to transform it back into sequences"
   ]
  },
  {
   "cell_type": "code",
   "execution_count": 8,
   "metadata": {},
   "outputs": [
    {
     "name": "stdout",
     "output_type": "stream",
     "text": [
      "(1105538, 2504, 2)\n"
     ]
    }
   ],
   "source": [
    "### Call the genotype matrix\n",
    "GT = callset['calldata/GT']\n",
    "GT1 = GT\n",
    "print(GT.shape)"
   ]
  },
  {
   "cell_type": "code",
   "execution_count": 9,
   "metadata": {},
   "outputs": [
    {
     "name": "stdout",
     "output_type": "stream",
     "text": [
      "(1105538, 3)\n"
     ]
    }
   ],
   "source": [
    "Var = np.array(callset['variants/ALT'])\n",
    "print(Var.shape)"
   ]
  },
  {
   "cell_type": "code",
   "execution_count": 10,
   "metadata": {},
   "outputs": [
    {
     "name": "stdout",
     "output_type": "stream",
     "text": [
      "(1105538,)\n"
     ]
    }
   ],
   "source": [
    "Ref = np.array(callset['variants/REF'])\n",
    "print(Ref.shape)"
   ]
  },
  {
   "cell_type": "code",
   "execution_count": 11,
   "metadata": {},
   "outputs": [],
   "source": [
    "### Define a function to write a sequence from the allel data\n",
    "def WriteSequence(Reference, Variations, GenMat):\n",
    "    Sequence1  = np.array([np.repeat('A', len(Reference))])\n",
    "    Sequence2  = np.array([np.repeat('A', len(Reference))])\n",
    "    Sequence = np.append(Sequence1, Sequence2, axis = 0)\n",
    "    \n",
    "    for i in range(Sequence1.shape[0]):\n",
    "        Options = np.array([Ref[i], Var[i, 0], Var[i, 1], Var[i, 2]])\n",
    "        Sequence[:, i] = np.array([Options[int(GenMat[i, 0])], Options[int(GenMat[i, 1])]])\n",
    "    return Sequence.T"
   ]
  },
  {
   "cell_type": "code",
   "execution_count": 12,
   "metadata": {},
   "outputs": [
    {
     "ename": "KeyboardInterrupt",
     "evalue": "",
     "output_type": "error",
     "traceback": [
      "\u001b[0;31m---------------------------------------------------------------------------\u001b[0m",
      "\u001b[0;31mKeyboardInterrupt\u001b[0m                         Traceback (most recent call last)",
      "\u001b[0;32m<ipython-input-12-95f40ed4dbca>\u001b[0m in \u001b[0;36m<module>\u001b[0;34m()\u001b[0m\n\u001b[1;32m      6\u001b[0m \u001b[0mRawSequenceTest\u001b[0m \u001b[0;34m=\u001b[0m \u001b[0mnp\u001b[0m\u001b[0;34m.\u001b[0m\u001b[0marray\u001b[0m\u001b[0;34m(\u001b[0m\u001b[0;34m[\u001b[0m\u001b[0mRawSequence1\u001b[0m\u001b[0;34m,\u001b[0m \u001b[0mRawSequence2\u001b[0m\u001b[0;34m]\u001b[0m\u001b[0;34m)\u001b[0m\u001b[0;34m.\u001b[0m\u001b[0mT\u001b[0m\u001b[0;34m\u001b[0m\u001b[0m\n\u001b[1;32m      7\u001b[0m \u001b[0;32mfor\u001b[0m \u001b[0mi\u001b[0m \u001b[0;32min\u001b[0m \u001b[0mrange\u001b[0m\u001b[0;34m(\u001b[0m\u001b[0mGT\u001b[0m\u001b[0;34m.\u001b[0m\u001b[0mshape\u001b[0m\u001b[0;34m[\u001b[0m\u001b[0;36m1\u001b[0m\u001b[0;34m]\u001b[0m\u001b[0;34m-\u001b[0m\u001b[0;36m1\u001b[0m\u001b[0;34m)\u001b[0m\u001b[0;34m:\u001b[0m\u001b[0;34m\u001b[0m\u001b[0m\n\u001b[0;32m----> 8\u001b[0;31m     \u001b[0mRawSequence\u001b[0m \u001b[0;34m=\u001b[0m \u001b[0mnp\u001b[0m\u001b[0;34m.\u001b[0m\u001b[0mappend\u001b[0m\u001b[0;34m(\u001b[0m\u001b[0mRawSequence\u001b[0m\u001b[0;34m,\u001b[0m \u001b[0mRawSequenceTest\u001b[0m\u001b[0;34m,\u001b[0m \u001b[0maxis\u001b[0m \u001b[0;34m=\u001b[0m \u001b[0;36m1\u001b[0m\u001b[0;34m)\u001b[0m\u001b[0;34m\u001b[0m\u001b[0m\n\u001b[0m\u001b[1;32m      9\u001b[0m \u001b[0mprint\u001b[0m\u001b[0;34m(\u001b[0m\u001b[0mRawSequence\u001b[0m\u001b[0;34m.\u001b[0m\u001b[0mshape\u001b[0m\u001b[0;34m)\u001b[0m\u001b[0;34m\u001b[0m\u001b[0m\n\u001b[1;32m     10\u001b[0m \u001b[0;34m\u001b[0m\u001b[0m\n",
      "\u001b[0;32m~/anaconda3/lib/python3.6/site-packages/numpy/lib/function_base.py\u001b[0m in \u001b[0;36mappend\u001b[0;34m(arr, values, axis)\u001b[0m\n\u001b[1;32m   5164\u001b[0m         \u001b[0mvalues\u001b[0m \u001b[0;34m=\u001b[0m \u001b[0mravel\u001b[0m\u001b[0;34m(\u001b[0m\u001b[0mvalues\u001b[0m\u001b[0;34m)\u001b[0m\u001b[0;34m\u001b[0m\u001b[0m\n\u001b[1;32m   5165\u001b[0m         \u001b[0maxis\u001b[0m \u001b[0;34m=\u001b[0m \u001b[0marr\u001b[0m\u001b[0;34m.\u001b[0m\u001b[0mndim\u001b[0m\u001b[0;34m-\u001b[0m\u001b[0;36m1\u001b[0m\u001b[0;34m\u001b[0m\u001b[0m\n\u001b[0;32m-> 5166\u001b[0;31m     \u001b[0;32mreturn\u001b[0m \u001b[0mconcatenate\u001b[0m\u001b[0;34m(\u001b[0m\u001b[0;34m(\u001b[0m\u001b[0marr\u001b[0m\u001b[0;34m,\u001b[0m \u001b[0mvalues\u001b[0m\u001b[0;34m)\u001b[0m\u001b[0;34m,\u001b[0m \u001b[0maxis\u001b[0m\u001b[0;34m=\u001b[0m\u001b[0maxis\u001b[0m\u001b[0;34m)\u001b[0m\u001b[0;34m\u001b[0m\u001b[0m\n\u001b[0m",
      "\u001b[0;31mKeyboardInterrupt\u001b[0m: "
     ]
    }
   ],
   "source": [
    "### Write the sequences for the 1000 genome data\n",
    "### Memory error if you try the full length\n",
    "RawSequence1 = np.array([np.repeat('A', Ref.shape[0])])\n",
    "RawSequence2 = np.array([np.repeat('A', Ref.shape[0])])\n",
    "RawSequence = np.array([RawSequence1, RawSequence2]).T\n",
    "RawSequenceTest = np.array([RawSequence1, RawSequence2]).T\n",
    "for i in range(GT.shape[1]-1):\n",
    "    RawSequence = np.append(RawSequence, RawSequenceTest, axis = 1)\n",
    "print(RawSequence.shape)\n",
    "\n",
    "for i in range(GT.shape[1]):\n",
    "    Sequence = WriteSequence(Ref, Var, GT[:, i, :])\n",
    "    RawSequence[:, i, :] = Sequence"
   ]
  },
  {
   "cell_type": "code",
   "execution_count": 13,
   "metadata": {},
   "outputs": [
    {
     "name": "stdout",
     "output_type": "stream",
     "text": [
      "(1105538, 806, 2)\n"
     ]
    }
   ],
   "source": [
    "print(RawSequence.shape)"
   ]
  },
  {
   "cell_type": "code",
   "execution_count": 14,
   "metadata": {},
   "outputs": [
    {
     "name": "stdout",
     "output_type": "stream",
     "text": [
      "(1105538, 2504)\n"
     ]
    }
   ],
   "source": [
    "### Here we transform the GT arrays into 0, 1 and 2 in light of the Novembre paper\n",
    "GT1[GT1 == 2] = 1\n",
    "GT1[GT1 == 3] = 1\n",
    "ConvertedGT = np.sum(GT1, axis=2)\n",
    "print(ConvertedGT.shape)"
   ]
  },
  {
   "cell_type": "markdown",
   "metadata": {},
   "source": [
    "Now we need to extract the super populations from the data to color plots and plot subpopulations"
   ]
  },
  {
   "cell_type": "code",
   "execution_count": 15,
   "metadata": {},
   "outputs": [],
   "source": [
    "key = pd.read_csv(\"../data/20130606_g1k.ped\", sep='\\t')"
   ]
  },
  {
   "cell_type": "code",
   "execution_count": 16,
   "metadata": {},
   "outputs": [
    {
     "data": {
      "text/html": [
       "<div>\n",
       "<style scoped>\n",
       "    .dataframe tbody tr th:only-of-type {\n",
       "        vertical-align: middle;\n",
       "    }\n",
       "\n",
       "    .dataframe tbody tr th {\n",
       "        vertical-align: top;\n",
       "    }\n",
       "\n",
       "    .dataframe thead th {\n",
       "        text-align: right;\n",
       "    }\n",
       "</style>\n",
       "<table border=\"1\" class=\"dataframe\">\n",
       "  <thead>\n",
       "    <tr style=\"text-align: right;\">\n",
       "      <th></th>\n",
       "      <th>Family ID</th>\n",
       "      <th>Individual ID</th>\n",
       "      <th>Paternal ID</th>\n",
       "      <th>Maternal ID</th>\n",
       "      <th>Gender</th>\n",
       "      <th>Phenotype</th>\n",
       "      <th>Population</th>\n",
       "      <th>Relationship</th>\n",
       "      <th>Siblings</th>\n",
       "      <th>Second Order</th>\n",
       "      <th>Third Order</th>\n",
       "      <th>Other Comments</th>\n",
       "    </tr>\n",
       "  </thead>\n",
       "  <tbody>\n",
       "    <tr>\n",
       "      <th>0</th>\n",
       "      <td>BB01</td>\n",
       "      <td>HG01879</td>\n",
       "      <td>0</td>\n",
       "      <td>0</td>\n",
       "      <td>1</td>\n",
       "      <td>0</td>\n",
       "      <td>ACB</td>\n",
       "      <td>father</td>\n",
       "      <td>0</td>\n",
       "      <td>0</td>\n",
       "      <td>0</td>\n",
       "      <td>0</td>\n",
       "    </tr>\n",
       "    <tr>\n",
       "      <th>1</th>\n",
       "      <td>BB01</td>\n",
       "      <td>HG01880</td>\n",
       "      <td>0</td>\n",
       "      <td>0</td>\n",
       "      <td>2</td>\n",
       "      <td>0</td>\n",
       "      <td>ACB</td>\n",
       "      <td>mother</td>\n",
       "      <td>0</td>\n",
       "      <td>0</td>\n",
       "      <td>0</td>\n",
       "      <td>0</td>\n",
       "    </tr>\n",
       "    <tr>\n",
       "      <th>2</th>\n",
       "      <td>BB01</td>\n",
       "      <td>HG01881</td>\n",
       "      <td>HG01879</td>\n",
       "      <td>HG01880</td>\n",
       "      <td>2</td>\n",
       "      <td>0</td>\n",
       "      <td>ACB</td>\n",
       "      <td>child</td>\n",
       "      <td>0</td>\n",
       "      <td>0</td>\n",
       "      <td>0</td>\n",
       "      <td>0</td>\n",
       "    </tr>\n",
       "    <tr>\n",
       "      <th>3</th>\n",
       "      <td>BB02</td>\n",
       "      <td>HG01882</td>\n",
       "      <td>0</td>\n",
       "      <td>0</td>\n",
       "      <td>1</td>\n",
       "      <td>0</td>\n",
       "      <td>ACB</td>\n",
       "      <td>father</td>\n",
       "      <td>0</td>\n",
       "      <td>0</td>\n",
       "      <td>0</td>\n",
       "      <td>0</td>\n",
       "    </tr>\n",
       "    <tr>\n",
       "      <th>4</th>\n",
       "      <td>BB02</td>\n",
       "      <td>HG01883</td>\n",
       "      <td>0</td>\n",
       "      <td>0</td>\n",
       "      <td>2</td>\n",
       "      <td>0</td>\n",
       "      <td>ACB</td>\n",
       "      <td>mother</td>\n",
       "      <td>0</td>\n",
       "      <td>0</td>\n",
       "      <td>0</td>\n",
       "      <td>0</td>\n",
       "    </tr>\n",
       "  </tbody>\n",
       "</table>\n",
       "</div>"
      ],
      "text/plain": [
       "  Family ID Individual ID Paternal ID Maternal ID  Gender  Phenotype  \\\n",
       "0      BB01       HG01879           0           0       1          0   \n",
       "1      BB01       HG01880           0           0       2          0   \n",
       "2      BB01       HG01881     HG01879     HG01880       2          0   \n",
       "3      BB02       HG01882           0           0       1          0   \n",
       "4      BB02       HG01883           0           0       2          0   \n",
       "\n",
       "  Population Relationship Siblings Second Order Third Order Other Comments  \n",
       "0        ACB       father        0            0           0              0  \n",
       "1        ACB       mother        0            0           0              0  \n",
       "2        ACB        child        0            0           0              0  \n",
       "3        ACB       father        0            0           0              0  \n",
       "4        ACB       mother        0            0           0              0  "
      ]
     },
     "execution_count": 16,
     "metadata": {},
     "output_type": "execute_result"
    }
   ],
   "source": [
    "key.head()"
   ]
  },
  {
   "cell_type": "code",
   "execution_count": 17,
   "metadata": {},
   "outputs": [],
   "source": [
    "### Get indices of rows for our data in the key\n",
    "key_id = key.iloc[:,1]\n",
    "GT_id = callset[\"samples\"]\n",
    "idx = np.empty(len(GT_id))\n",
    "for i in range(len(key_id)):\n",
    "    for j in range(len(GT_id)):\n",
    "        if key_id[i] == GT_id[j]:\n",
    "            idx[j] = i"
   ]
  },
  {
   "cell_type": "code",
   "execution_count": 18,
   "metadata": {},
   "outputs": [],
   "source": [
    "pops = key.iloc[idx,6] # populations for our chr21 data"
   ]
  },
  {
   "cell_type": "code",
   "execution_count": 19,
   "metadata": {},
   "outputs": [],
   "source": [
    "super_pop = pd.read_csv(\"../data/20131219.superpopulations.tsv\", sep='\\t')"
   ]
  },
  {
   "cell_type": "code",
   "execution_count": 20,
   "metadata": {},
   "outputs": [
    {
     "data": {
      "text/html": [
       "<div>\n",
       "<style scoped>\n",
       "    .dataframe tbody tr th:only-of-type {\n",
       "        vertical-align: middle;\n",
       "    }\n",
       "\n",
       "    .dataframe tbody tr th {\n",
       "        vertical-align: top;\n",
       "    }\n",
       "\n",
       "    .dataframe thead th {\n",
       "        text-align: right;\n",
       "    }\n",
       "</style>\n",
       "<table border=\"1\" class=\"dataframe\">\n",
       "  <thead>\n",
       "    <tr style=\"text-align: right;\">\n",
       "      <th></th>\n",
       "      <th>Description</th>\n",
       "      <th>Population Code</th>\n",
       "    </tr>\n",
       "  </thead>\n",
       "  <tbody>\n",
       "    <tr>\n",
       "      <th>0</th>\n",
       "      <td>East Asian</td>\n",
       "      <td>EAS</td>\n",
       "    </tr>\n",
       "    <tr>\n",
       "      <th>1</th>\n",
       "      <td>South Asian</td>\n",
       "      <td>SAS</td>\n",
       "    </tr>\n",
       "    <tr>\n",
       "      <th>2</th>\n",
       "      <td>African</td>\n",
       "      <td>AFR</td>\n",
       "    </tr>\n",
       "    <tr>\n",
       "      <th>3</th>\n",
       "      <td>European</td>\n",
       "      <td>EUR</td>\n",
       "    </tr>\n",
       "    <tr>\n",
       "      <th>4</th>\n",
       "      <td>American</td>\n",
       "      <td>AMR</td>\n",
       "    </tr>\n",
       "  </tbody>\n",
       "</table>\n",
       "</div>"
      ],
      "text/plain": [
       "   Description Population Code\n",
       "0   East Asian             EAS\n",
       "1  South Asian             SAS\n",
       "2      African             AFR\n",
       "3     European             EUR\n",
       "4     American             AMR"
      ]
     },
     "execution_count": 20,
     "metadata": {},
     "output_type": "execute_result"
    }
   ],
   "source": [
    "super_pop"
   ]
  },
  {
   "cell_type": "code",
   "execution_count": 21,
   "metadata": {},
   "outputs": [],
   "source": [
    "pop_code = pd.read_csv(\"../data/20131219.populations.tsv\", sep='\\t')"
   ]
  },
  {
   "cell_type": "code",
   "execution_count": 22,
   "metadata": {},
   "outputs": [],
   "source": [
    "# Get indeces of 1000 genomes chr21 samples from key\n",
    "uni_pops = []\n",
    "for i in np.unique(pops):\n",
    "    uni_pops += [np.where(pop_code.iloc[:,1]==i)[0][0]]"
   ]
  },
  {
   "cell_type": "code",
   "execution_count": 23,
   "metadata": {},
   "outputs": [],
   "source": [
    "pop_arr = np.array(pops)"
   ]
  },
  {
   "cell_type": "code",
   "execution_count": 24,
   "metadata": {},
   "outputs": [],
   "source": [
    "for i in range(len(np.unique(pops))):\n",
    "    pop_arr[np.where(pops == np.unique(pops)[i])[0]] = np.array(pop_code.iloc[uni_pops,2])[i]"
   ]
  },
  {
   "cell_type": "code",
   "execution_count": 25,
   "metadata": {},
   "outputs": [],
   "source": [
    "### Pull out indices by superpopulation\n",
    "AFR_idx= np.where(pop_arr == np.unique(pop_arr)[np.where(np.unique(pop_arr)==\"AFR\")[0][0]])[0]\n",
    "AMR_idx= np.where(pop_arr == np.unique(pop_arr)[np.where(np.unique(pop_arr)==\"AMR\")[0][0]])[0]\n",
    "EAS_idx= np.where(pop_arr == np.unique(pop_arr)[np.where(np.unique(pop_arr)==\"EAS\")[0][0]])[0]\n",
    "EUR_idx= np.where(pop_arr == np.unique(pop_arr)[np.where(np.unique(pop_arr)==\"EUR\")[0][0]])[0]\n",
    "SAS_idx= np.where(pop_arr == np.unique(pop_arr)[np.where(np.unique(pop_arr)==\"SAS\")[0][0]])[0]"
   ]
  },
  {
   "cell_type": "code",
   "execution_count": 26,
   "metadata": {},
   "outputs": [],
   "source": [
    "samples = [AFR_idx,AMR_idx,EAS_idx,EUR_idx,SAS_idx]"
   ]
  },
  {
   "cell_type": "code",
   "execution_count": 27,
   "metadata": {},
   "outputs": [],
   "source": [
    "pops_col = np.array(pops)"
   ]
  },
  {
   "cell_type": "code",
   "execution_count": 28,
   "metadata": {},
   "outputs": [],
   "source": [
    "col_pal = np.arange(len(np.unique(pop_arr)))\n",
    "for i in col_pal:\n",
    "    pops_col[np.where(pop_arr == np.unique(pop_arr)[i])[0]] = col_pal[i]"
   ]
  },
  {
   "cell_type": "markdown",
   "metadata": {},
   "source": [
    "Now we do a rudimentary linkage filtering before the PCA - we divide the GT rows into $1000$ pieces, and sample randomly from the inner $500$ of each piece"
   ]
  },
  {
   "cell_type": "code",
   "execution_count": 29,
   "metadata": {},
   "outputs": [
    {
     "name": "stdout",
     "output_type": "stream",
     "text": [
      "(1001,)\n",
      "(1001, 2504, 2)\n",
      "(1001, 2504)\n",
      "(1001, 3)\n"
     ]
    }
   ],
   "source": [
    "def SamplingSegments(Reference, Variants, GT, ConvertedGT, SegmentLength):\n",
    "    NumSegments = int(ConvertedGT.shape[0]/SegmentLength)\n",
    "    Remainder = ConvertedGT.shape[0] % NumSegments\n",
    "    Indices = np.array([NumSegments*i for i in range(int(ConvertedGT.shape[0]/NumSegments)+1)])\n",
    "\n",
    "    Samples = np.zeros((len(Indices), GT.shape[1], GT.shape[2]))\n",
    "    ConvertedSamples = np.zeros((len(Indices), ConvertedGT.shape[1]))\n",
    "    RefSegment = np.repeat('A', len(Indices))\n",
    "    VarSegment =np.array([np.repeat('A', len(Indices)), np.repeat('A', len(Indices)), np.repeat('A', len(Indices))]).T\n",
    "    ConvertedGTRows = range(ConvertedGT.shape[0])\n",
    "\n",
    "    for i in range(Samples.shape[0]):\n",
    "        if i != Samples.shape[0]-1:\n",
    "            Row = np.random.choice(ConvertedGTRows[(Indices[i]+int(NumSegments/4)):(Indices[i+1]-int(NumSegments/4))], 1, p=np.repeat(1/int(NumSegments/2+1), int(NumSegments/2)+1))\n",
    "            ConvertedSamples[i] = ConvertedGT[Row][:]\n",
    "            Samples[i] = GT[Row][:][:]\n",
    "            RefSegment[i] = Reference[Row][0]\n",
    "            VarSegment[i] = Variants[Row]\n",
    "        else:\n",
    "            Row = np.random.choice(ConvertedGTRows[(Indices[i]+int(Remainder/4)):(ConvertedGT.shape[0]-int(Remainder/4))], 1, p=np.repeat(1/(Remainder/2+1), int(Remainder/2+1)))\n",
    "            ConvertedSamples[i] = ConvertedGT[Row][:]\n",
    "            Samples[i] = GT[Row][:][:]\n",
    "            RefSegment[i] = Reference[Row][0]\n",
    "            VarSegment[i] = Variants[Row]\n",
    "    return RefSegment, VarSegment, Samples, ConvertedSamples\n",
    "\n",
    "RefSegment, VarSegment, Samples, ConvertedSamples = SamplingSegments(Ref, Var, GT, ConvertedGT, 1000)\n",
    "            \n",
    "print(RefSegment.shape)\n",
    "print(Samples.shape)\n",
    "print(ConvertedSamples.shape) \n",
    "print(VarSegment.shape)"
   ]
  },
  {
   "cell_type": "code",
   "execution_count": 30,
   "metadata": {},
   "outputs": [
    {
     "name": "stdout",
     "output_type": "stream",
     "text": [
      "(1001, 2504, 2)\n"
     ]
    }
   ],
   "source": [
    "RawSequenceSegment1 = np.array([np.repeat('A', RefSegment.shape[0])])\n",
    "RawSequenceSegment2 = np.array([np.repeat('A', RefSegment.shape[0])])\n",
    "RawSequenceSegment = np.array([RawSequenceSegment1, RawSequenceSegment2]).T\n",
    "RawSequenceSegmentTest = np.array([RawSequenceSegment1, RawSequenceSegment2]).T\n",
    "for i in range(Samples.shape[1]-1):\n",
    "    RawSequenceSegment = np.append(RawSequenceSegment, RawSequenceSegmentTest, axis = 1)\n",
    "print(RawSequenceSegment.shape)\n",
    "\n",
    "for i in range(Samples.shape[1]):\n",
    "    Sequence = WriteSequence(RefSegment, VarSegment, Samples[:, i, :])\n",
    "    RawSequenceSegment[:, i, :] = Sequence"
   ]
  },
  {
   "cell_type": "code",
   "execution_count": 31,
   "metadata": {},
   "outputs": [
    {
     "ename": "ValueError",
     "evalue": "Must pass 2-d input",
     "output_type": "error",
     "traceback": [
      "\u001b[0;31m---------------------------------------------------------------------------\u001b[0m",
      "\u001b[0;31mValueError\u001b[0m                                Traceback (most recent call last)",
      "\u001b[0;32m<ipython-input-31-75b0b41c11a0>\u001b[0m in \u001b[0;36m<module>\u001b[0;34m()\u001b[0m\n\u001b[0;32m----> 1\u001b[0;31m \u001b[0mData\u001b[0m \u001b[0;34m=\u001b[0m \u001b[0mpd\u001b[0m\u001b[0;34m.\u001b[0m\u001b[0mDataFrame\u001b[0m\u001b[0;34m(\u001b[0m\u001b[0mRawSequenceSegment\u001b[0m\u001b[0;34m)\u001b[0m\u001b[0;34m\u001b[0m\u001b[0m\n\u001b[0m\u001b[1;32m      2\u001b[0m \u001b[0mData\u001b[0m\u001b[0;34m.\u001b[0m\u001b[0mto_csv\u001b[0m\u001b[0;34m(\u001b[0m\u001b[0;34m'RawSequenceFiltered.csv'\u001b[0m\u001b[0;34m,\u001b[0m \u001b[0mheader\u001b[0m\u001b[0;34m=\u001b[0m\u001b[0;32mFalse\u001b[0m\u001b[0;34m)\u001b[0m\u001b[0;34m\u001b[0m\u001b[0m\n",
      "\u001b[0;32m~/anaconda3/lib/python3.6/site-packages/pandas/core/frame.py\u001b[0m in \u001b[0;36m__init__\u001b[0;34m(self, data, index, columns, dtype, copy)\u001b[0m\n\u001b[1;32m    377\u001b[0m             \u001b[0;32melse\u001b[0m\u001b[0;34m:\u001b[0m\u001b[0;34m\u001b[0m\u001b[0m\n\u001b[1;32m    378\u001b[0m                 mgr = self._init_ndarray(data, index, columns, dtype=dtype,\n\u001b[0;32m--> 379\u001b[0;31m                                          copy=copy)\n\u001b[0m\u001b[1;32m    380\u001b[0m         \u001b[0;32melif\u001b[0m \u001b[0misinstance\u001b[0m\u001b[0;34m(\u001b[0m\u001b[0mdata\u001b[0m\u001b[0;34m,\u001b[0m \u001b[0;34m(\u001b[0m\u001b[0mlist\u001b[0m\u001b[0;34m,\u001b[0m \u001b[0mtypes\u001b[0m\u001b[0;34m.\u001b[0m\u001b[0mGeneratorType\u001b[0m\u001b[0;34m)\u001b[0m\u001b[0;34m)\u001b[0m\u001b[0;34m:\u001b[0m\u001b[0;34m\u001b[0m\u001b[0m\n\u001b[1;32m    381\u001b[0m             \u001b[0;32mif\u001b[0m \u001b[0misinstance\u001b[0m\u001b[0;34m(\u001b[0m\u001b[0mdata\u001b[0m\u001b[0;34m,\u001b[0m \u001b[0mtypes\u001b[0m\u001b[0;34m.\u001b[0m\u001b[0mGeneratorType\u001b[0m\u001b[0;34m)\u001b[0m\u001b[0;34m:\u001b[0m\u001b[0;34m\u001b[0m\u001b[0m\n",
      "\u001b[0;32m~/anaconda3/lib/python3.6/site-packages/pandas/core/frame.py\u001b[0m in \u001b[0;36m_init_ndarray\u001b[0;34m(self, values, index, columns, dtype, copy)\u001b[0m\n\u001b[1;32m    513\u001b[0m         \u001b[0;31m# by definition an array here\u001b[0m\u001b[0;34m\u001b[0m\u001b[0;34m\u001b[0m\u001b[0m\n\u001b[1;32m    514\u001b[0m         \u001b[0;31m# the dtypes will be coerced to a single dtype\u001b[0m\u001b[0;34m\u001b[0m\u001b[0;34m\u001b[0m\u001b[0m\n\u001b[0;32m--> 515\u001b[0;31m         \u001b[0mvalues\u001b[0m \u001b[0;34m=\u001b[0m \u001b[0m_prep_ndarray\u001b[0m\u001b[0;34m(\u001b[0m\u001b[0mvalues\u001b[0m\u001b[0;34m,\u001b[0m \u001b[0mcopy\u001b[0m\u001b[0;34m=\u001b[0m\u001b[0mcopy\u001b[0m\u001b[0;34m)\u001b[0m\u001b[0;34m\u001b[0m\u001b[0m\n\u001b[0m\u001b[1;32m    516\u001b[0m \u001b[0;34m\u001b[0m\u001b[0m\n\u001b[1;32m    517\u001b[0m         \u001b[0;32mif\u001b[0m \u001b[0mdtype\u001b[0m \u001b[0;32mis\u001b[0m \u001b[0;32mnot\u001b[0m \u001b[0;32mNone\u001b[0m\u001b[0;34m:\u001b[0m\u001b[0;34m\u001b[0m\u001b[0m\n",
      "\u001b[0;32m~/anaconda3/lib/python3.6/site-packages/pandas/core/frame.py\u001b[0m in \u001b[0;36m_prep_ndarray\u001b[0;34m(values, copy)\u001b[0m\n\u001b[1;32m   7405\u001b[0m         \u001b[0mvalues\u001b[0m \u001b[0;34m=\u001b[0m \u001b[0mvalues\u001b[0m\u001b[0;34m.\u001b[0m\u001b[0mreshape\u001b[0m\u001b[0;34m(\u001b[0m\u001b[0;34m(\u001b[0m\u001b[0mvalues\u001b[0m\u001b[0;34m.\u001b[0m\u001b[0mshape\u001b[0m\u001b[0;34m[\u001b[0m\u001b[0;36m0\u001b[0m\u001b[0;34m]\u001b[0m\u001b[0;34m,\u001b[0m \u001b[0;36m1\u001b[0m\u001b[0;34m)\u001b[0m\u001b[0;34m)\u001b[0m\u001b[0;34m\u001b[0m\u001b[0m\n\u001b[1;32m   7406\u001b[0m     \u001b[0;32melif\u001b[0m \u001b[0mvalues\u001b[0m\u001b[0;34m.\u001b[0m\u001b[0mndim\u001b[0m \u001b[0;34m!=\u001b[0m \u001b[0;36m2\u001b[0m\u001b[0;34m:\u001b[0m\u001b[0;34m\u001b[0m\u001b[0m\n\u001b[0;32m-> 7407\u001b[0;31m         \u001b[0;32mraise\u001b[0m \u001b[0mValueError\u001b[0m\u001b[0;34m(\u001b[0m\u001b[0;34m'Must pass 2-d input'\u001b[0m\u001b[0;34m)\u001b[0m\u001b[0;34m\u001b[0m\u001b[0m\n\u001b[0m\u001b[1;32m   7408\u001b[0m \u001b[0;34m\u001b[0m\u001b[0m\n\u001b[1;32m   7409\u001b[0m     \u001b[0;32mreturn\u001b[0m \u001b[0mvalues\u001b[0m\u001b[0;34m\u001b[0m\u001b[0m\n",
      "\u001b[0;31mValueError\u001b[0m: Must pass 2-d input"
     ]
    }
   ],
   "source": [
    "Data = pd.DataFrame(RawSequenceSegment)\n",
    "Data.to_csv('RawSequenceFiltered.csv', header=False)"
   ]
  },
  {
   "cell_type": "code",
   "execution_count": 77,
   "metadata": {},
   "outputs": [
    {
     "ename": "KeyboardInterrupt",
     "evalue": "",
     "output_type": "error",
     "traceback": [
      "\u001b[0;31m---------------------------------------------------------------------------\u001b[0m",
      "\u001b[0;31mKeyboardInterrupt\u001b[0m                         Traceback (most recent call last)",
      "\u001b[0;32m<ipython-input-77-81107f618524>\u001b[0m in \u001b[0;36m<module>\u001b[0;34m()\u001b[0m\n\u001b[1;32m     11\u001b[0m \u001b[0;34m\u001b[0m\u001b[0m\n\u001b[1;32m     12\u001b[0m \u001b[0mStandardizedSamples\u001b[0m \u001b[0;34m=\u001b[0m \u001b[0mStandardizeGenotype\u001b[0m\u001b[0;34m(\u001b[0m\u001b[0mConvertedSamples\u001b[0m\u001b[0;34m)\u001b[0m\u001b[0;34m\u001b[0m\u001b[0m\n\u001b[0;32m---> 13\u001b[0;31m \u001b[0mStandardizedUnfiltered\u001b[0m \u001b[0;34m=\u001b[0m \u001b[0mStandardizeGenotype\u001b[0m\u001b[0;34m(\u001b[0m\u001b[0mConvertedGT\u001b[0m\u001b[0;34m)\u001b[0m\u001b[0;34m\u001b[0m\u001b[0m\n\u001b[0m",
      "\u001b[0;32m<ipython-input-77-81107f618524>\u001b[0m in \u001b[0;36mStandardizeGenotype\u001b[0;34m(GT)\u001b[0m\n\u001b[1;32m      7\u001b[0m     \u001b[0mmeanMatrix\u001b[0m \u001b[0;34m=\u001b[0m \u001b[0mnp\u001b[0m\u001b[0;34m.\u001b[0m\u001b[0marray\u001b[0m\u001b[0;34m(\u001b[0m\u001b[0;34m[\u001b[0m\u001b[0mmean\u001b[0m \u001b[0;32mfor\u001b[0m \u001b[0mi\u001b[0m \u001b[0;32min\u001b[0m \u001b[0mrange\u001b[0m\u001b[0;34m(\u001b[0m\u001b[0mGT\u001b[0m\u001b[0;34m.\u001b[0m\u001b[0mshape\u001b[0m\u001b[0;34m[\u001b[0m\u001b[0;36m1\u001b[0m\u001b[0;34m]\u001b[0m\u001b[0;34m)\u001b[0m\u001b[0;34m]\u001b[0m\u001b[0;34m)\u001b[0m\u001b[0;34m\u001b[0m\u001b[0m\n\u001b[1;32m      8\u001b[0m     \u001b[0mstdevMatrix\u001b[0m \u001b[0;34m=\u001b[0m \u001b[0mnp\u001b[0m\u001b[0;34m.\u001b[0m\u001b[0marray\u001b[0m\u001b[0;34m(\u001b[0m\u001b[0;34m[\u001b[0m\u001b[0mstdev\u001b[0m \u001b[0;32mfor\u001b[0m \u001b[0mi\u001b[0m \u001b[0;32min\u001b[0m \u001b[0mrange\u001b[0m\u001b[0;34m(\u001b[0m\u001b[0mGT\u001b[0m\u001b[0;34m.\u001b[0m\u001b[0mshape\u001b[0m\u001b[0;34m[\u001b[0m\u001b[0;36m1\u001b[0m\u001b[0;34m]\u001b[0m\u001b[0;34m)\u001b[0m\u001b[0;34m]\u001b[0m\u001b[0;34m)\u001b[0m\u001b[0;34m\u001b[0m\u001b[0m\n\u001b[0;32m----> 9\u001b[0;31m     \u001b[0mConvertedSamplesStandardized\u001b[0m \u001b[0;34m=\u001b[0m \u001b[0;34m(\u001b[0m\u001b[0mGT\u001b[0m\u001b[0;34m.\u001b[0m\u001b[0mT\u001b[0m \u001b[0;34m-\u001b[0m \u001b[0mmeanMatrix\u001b[0m\u001b[0;34m)\u001b[0m\u001b[0;34m/\u001b[0m\u001b[0mstdevMatrix\u001b[0m\u001b[0;34m\u001b[0m\u001b[0m\n\u001b[0m\u001b[1;32m     10\u001b[0m     \u001b[0;32mreturn\u001b[0m \u001b[0mConvertedSamplesStandardized\u001b[0m\u001b[0;34m.\u001b[0m\u001b[0mT\u001b[0m\u001b[0;34m\u001b[0m\u001b[0m\n\u001b[1;32m     11\u001b[0m \u001b[0;34m\u001b[0m\u001b[0m\n",
      "\u001b[0;31mKeyboardInterrupt\u001b[0m: "
     ]
    }
   ],
   "source": [
    "### Mean center the ConvertedSamples\n",
    "def StandardizeGenotype(GT):\n",
    "    mean = np.mean(GT, axis = 1)\n",
    "    stdev = np.std(GT, axis = 1)\n",
    "    stdev[stdev == 0] = 1e-5\n",
    "\n",
    "    meanMatrix = np.array([mean for i in range(GT.shape[1])])\n",
    "    stdevMatrix = np.array([stdev for i in range(GT.shape[1])])\n",
    "    ConvertedSamplesStandardized = (GT.T - meanMatrix)/stdevMatrix\n",
    "    return ConvertedSamplesStandardized.T\n",
    "\n",
    "StandardizedSamples = StandardizeGenotype(ConvertedSamples)\n",
    "StandardizedUnfiltered = StandardizeGenotype(ConvertedGT)"
   ]
  },
  {
   "cell_type": "markdown",
   "metadata": {},
   "source": [
    "First we run PCA on the unfiltered, unstandardized data"
   ]
  },
  {
   "cell_type": "code",
   "execution_count": 93,
   "metadata": {},
   "outputs": [
    {
     "data": {
      "text/plain": [
       "(1105538, 2504)"
      ]
     },
     "execution_count": 93,
     "metadata": {},
     "output_type": "execute_result"
    }
   ],
   "source": [
    "ConvertedGT.shape"
   ]
  },
  {
   "cell_type": "code",
   "execution_count": 94,
   "metadata": {},
   "outputs": [],
   "source": [
    "pca = PCA(n_components=3)\n",
    "PCs = pca.fit_transform(ConvertedGT)"
   ]
  },
  {
   "cell_type": "code",
   "execution_count": 96,
   "metadata": {},
   "outputs": [
    {
     "name": "stdout",
     "output_type": "stream",
     "text": [
      "Explained var [0.66830877 0.03008041 0.01142529]\n"
     ]
    }
   ],
   "source": [
    "print(\"Explained var\", pca.explained_variance_ratio_)"
   ]
  },
  {
   "cell_type": "code",
   "execution_count": 98,
   "metadata": {
    "scrolled": true
   },
   "outputs": [],
   "source": [
    "# standardize unfiltered\n",
    "standardized_gt = (ConvertedGT.T - np.mean(ConvertedGT,axis=1))/(np.std(ConvertedGT,axis=1) + np.finfo(float).eps)"
   ]
  },
  {
   "cell_type": "code",
   "execution_count": 108,
   "metadata": {},
   "outputs": [],
   "source": [
    "standardized_gt = (ConvertedGT.T - sample_mean)/(sample_std + np.finfo(float).eps)"
   ]
  },
  {
   "cell_type": "code",
   "execution_count": 109,
   "metadata": {},
   "outputs": [
    {
     "data": {
      "text/plain": [
       "(2504, 1105538)"
      ]
     },
     "execution_count": 109,
     "metadata": {},
     "output_type": "execute_result"
    }
   ],
   "source": [
    "standardized_gt.shape"
   ]
  },
  {
   "cell_type": "code",
   "execution_count": 110,
   "metadata": {},
   "outputs": [
    {
     "name": "stdout",
     "output_type": "stream",
     "text": [
      "Explained var [0.01736578 0.00508451 0.0022067 ]\n"
     ]
    }
   ],
   "source": [
    "pca = PCA(n_components=3)\n",
    "PCs = pca.fit_transform(standardized_gt)\n",
    "print(\"Explained var\", pca.explained_variance_ratio_)"
   ]
  },
  {
   "cell_type": "code",
   "execution_count": 86,
   "metadata": {},
   "outputs": [
    {
     "name": "stdout",
     "output_type": "stream",
     "text": [
      "Explained var [0.0204109  0.01787305 0.01672546]\n"
     ]
    }
   ],
   "source": [
    "print(\"Explained var\", pca.explained_variance_ratio_)"
   ]
  },
  {
   "cell_type": "code",
   "execution_count": 87,
   "metadata": {},
   "outputs": [],
   "source": [
    "def PlotPCA3D(Matrix, PCs, samples, plot_name, file_name):\n",
    "    PC1 = Matrix.T@PCs[:, 0]\n",
    "    PC2 = Matrix.T@PCs[:, 1]\n",
    "    PC3 = Matrix.T@PCs[:, 2]\n",
    "\n",
    "    fig = plt.figure(figsize=(15,15))\n",
    "\n",
    "    ax = plt.axes(projection ='3d')\n",
    "\n",
    "    colors = np.arange(len(samples))\n",
    "    \n",
    "    if len(samples) == 1:\n",
    "        ax.scatter3D(PC1,PC2,PC3, label = pop_arr[:][0])\n",
    "    else:\n",
    "        for samp in samples:\n",
    "            ax.scatter3D(PC1[samp],PC2[samp],PC3[samp], label = pop_arr[samp][0])\n",
    "    ax.set_xlabel('PC1', fontsize=30)\n",
    "    ax.set_xticks([])\n",
    "    ax.set_ylabel('PC2',fontsize=24)\n",
    "    ax.set_yticks([])\n",
    "    ax.set_zlabel(r'PC3', fontsize=24,rotation = 90)\n",
    "    ax.set_zticks([])\n",
    "    ax.set_title(plot_name, fontsize=30,pad = 40)\n",
    "    ax.legend(loc =4,prop={'size':20})\n",
    "    print(\"Explained var\", pca.explained_variance_ratio_)\n",
    "    fig.savefig(file_name,quality=95)"
   ]
  },
  {
   "cell_type": "code",
   "execution_count": 88,
   "metadata": {},
   "outputs": [
    {
     "ename": "ValueError",
     "evalue": "shapes (2504,1105538) and (1001,) not aligned: 1105538 (dim 1) != 1001 (dim 0)",
     "output_type": "error",
     "traceback": [
      "\u001b[0;31m---------------------------------------------------------------------------\u001b[0m",
      "\u001b[0;31mValueError\u001b[0m                                Traceback (most recent call last)",
      "\u001b[0;32m<ipython-input-88-70daf801beee>\u001b[0m in \u001b[0;36m<module>\u001b[0;34m()\u001b[0m\n\u001b[0;32m----> 1\u001b[0;31m \u001b[0mPlotPCA3D\u001b[0m\u001b[0;34m(\u001b[0m\u001b[0mConvertedGT\u001b[0m\u001b[0;34m,\u001b[0m \u001b[0mPCs\u001b[0m\u001b[0;34m,\u001b[0m \u001b[0msamples\u001b[0m\u001b[0;34m,\u001b[0m \u001b[0;34m\"1000 Genomes chr21 unfiltered\"\u001b[0m\u001b[0;34m,\u001b[0m \u001b[0;34m\"unfiltered_chr21_PCA.jpg\"\u001b[0m\u001b[0;34m)\u001b[0m\u001b[0;34m\u001b[0m\u001b[0m\n\u001b[0m",
      "\u001b[0;32m<ipython-input-87-2a36c42289b5>\u001b[0m in \u001b[0;36mPlotPCA3D\u001b[0;34m(Matrix, PCs, samples, plot_name, file_name)\u001b[0m\n\u001b[1;32m      1\u001b[0m \u001b[0;32mdef\u001b[0m \u001b[0mPlotPCA3D\u001b[0m\u001b[0;34m(\u001b[0m\u001b[0mMatrix\u001b[0m\u001b[0;34m,\u001b[0m \u001b[0mPCs\u001b[0m\u001b[0;34m,\u001b[0m \u001b[0msamples\u001b[0m\u001b[0;34m,\u001b[0m \u001b[0mplot_name\u001b[0m\u001b[0;34m,\u001b[0m \u001b[0mfile_name\u001b[0m\u001b[0;34m)\u001b[0m\u001b[0;34m:\u001b[0m\u001b[0;34m\u001b[0m\u001b[0m\n\u001b[0;32m----> 2\u001b[0;31m     \u001b[0mPC1\u001b[0m \u001b[0;34m=\u001b[0m \u001b[0mMatrix\u001b[0m\u001b[0;34m.\u001b[0m\u001b[0mT\u001b[0m\u001b[0;34m@\u001b[0m\u001b[0mPCs\u001b[0m\u001b[0;34m[\u001b[0m\u001b[0;34m:\u001b[0m\u001b[0;34m,\u001b[0m \u001b[0;36m0\u001b[0m\u001b[0;34m]\u001b[0m\u001b[0;34m\u001b[0m\u001b[0m\n\u001b[0m\u001b[1;32m      3\u001b[0m     \u001b[0mPC2\u001b[0m \u001b[0;34m=\u001b[0m \u001b[0mMatrix\u001b[0m\u001b[0;34m.\u001b[0m\u001b[0mT\u001b[0m\u001b[0;34m@\u001b[0m\u001b[0mPCs\u001b[0m\u001b[0;34m[\u001b[0m\u001b[0;34m:\u001b[0m\u001b[0;34m,\u001b[0m \u001b[0;36m1\u001b[0m\u001b[0;34m]\u001b[0m\u001b[0;34m\u001b[0m\u001b[0m\n\u001b[1;32m      4\u001b[0m     \u001b[0mPC3\u001b[0m \u001b[0;34m=\u001b[0m \u001b[0mMatrix\u001b[0m\u001b[0;34m.\u001b[0m\u001b[0mT\u001b[0m\u001b[0;34m@\u001b[0m\u001b[0mPCs\u001b[0m\u001b[0;34m[\u001b[0m\u001b[0;34m:\u001b[0m\u001b[0;34m,\u001b[0m \u001b[0;36m2\u001b[0m\u001b[0;34m]\u001b[0m\u001b[0;34m\u001b[0m\u001b[0m\n\u001b[1;32m      5\u001b[0m \u001b[0;34m\u001b[0m\u001b[0m\n",
      "\u001b[0;31mValueError\u001b[0m: shapes (2504,1105538) and (1001,) not aligned: 1105538 (dim 1) != 1001 (dim 0)"
     ]
    }
   ],
   "source": [
    "PlotPCA3D(ConvertedGT, PCs, samples, \"1000 Genomes chr21 unfiltered\", \"unfiltered_chr21_PCA.jpg\")"
   ]
  },
  {
   "cell_type": "code",
   "execution_count": 36,
   "metadata": {},
   "outputs": [],
   "source": [
    "def PlotPC122D(Matrix, PCs, samples, plot_name, file_name):\n",
    "    PC1 = Matrix.T@PCs[:, 0]\n",
    "    PC2 = Matrix.T@PCs[:, 1]\n",
    "    PC3 = Matrix.T@PCs[:, 2]\n",
    "    \n",
    "    plt.figure(figsize=(15,15))\n",
    "    if len(samples) == 1:\n",
    "        plt.scatter(PC1,PC2, label = pop_arr[:][0])\n",
    "    else:\n",
    "        for samp in samples:\n",
    "            plt.scatter(PC1[samp],PC2[samp], label = pop_arr[samp][0])\n",
    "    plt.xlabel(\"PC1\",fontsize=30,labelpad=20)\n",
    "    plt.xticks([])\n",
    "    plt.ylabel(\"PC2\",fontsize=30,labelpad=20)\n",
    "    plt.yticks([])\n",
    "    plt.legend(loc =4,prop={'size':20})\n",
    "    plt.title(plot_name,fontsize=30,pad = 40)\n",
    "    print(\"Explained var\", pca.explained_variance_ratio_)\n",
    "    plt.savefig(file_name,quality=95)"
   ]
  },
  {
   "cell_type": "code",
   "execution_count": 73,
   "metadata": {},
   "outputs": [
    {
     "ename": "ValueError",
     "evalue": "shapes (2504,1105538) and (1001,) not aligned: 1105538 (dim 1) != 1001 (dim 0)",
     "output_type": "error",
     "traceback": [
      "\u001b[0;31m---------------------------------------------------------------------------\u001b[0m",
      "\u001b[0;31mValueError\u001b[0m                                Traceback (most recent call last)",
      "\u001b[0;32m<ipython-input-73-2fc8ffe7c233>\u001b[0m in \u001b[0;36m<module>\u001b[0;34m()\u001b[0m\n\u001b[0;32m----> 1\u001b[0;31m \u001b[0mPlotPC122D\u001b[0m\u001b[0;34m(\u001b[0m\u001b[0mConvertedGT\u001b[0m\u001b[0;34m,\u001b[0m \u001b[0mPCs\u001b[0m\u001b[0;34m,\u001b[0m \u001b[0msamples\u001b[0m\u001b[0;34m,\u001b[0m \u001b[0;34m\"1000 Genomes chr21 unfiltered\"\u001b[0m\u001b[0;34m,\u001b[0m \u001b[0;34m\"unfiltered_chr21_PC1PC2.jpg\"\u001b[0m\u001b[0;34m)\u001b[0m\u001b[0;34m\u001b[0m\u001b[0m\n\u001b[0m",
      "\u001b[0;32m<ipython-input-36-b6630e112a5f>\u001b[0m in \u001b[0;36mPlotPC122D\u001b[0;34m(Matrix, PCs, samples, plot_name, file_name)\u001b[0m\n\u001b[1;32m      1\u001b[0m \u001b[0;32mdef\u001b[0m \u001b[0mPlotPC122D\u001b[0m\u001b[0;34m(\u001b[0m\u001b[0mMatrix\u001b[0m\u001b[0;34m,\u001b[0m \u001b[0mPCs\u001b[0m\u001b[0;34m,\u001b[0m \u001b[0msamples\u001b[0m\u001b[0;34m,\u001b[0m \u001b[0mplot_name\u001b[0m\u001b[0;34m,\u001b[0m \u001b[0mfile_name\u001b[0m\u001b[0;34m)\u001b[0m\u001b[0;34m:\u001b[0m\u001b[0;34m\u001b[0m\u001b[0m\n\u001b[0;32m----> 2\u001b[0;31m     \u001b[0mPC1\u001b[0m \u001b[0;34m=\u001b[0m \u001b[0mMatrix\u001b[0m\u001b[0;34m.\u001b[0m\u001b[0mT\u001b[0m\u001b[0;34m@\u001b[0m\u001b[0mPCs\u001b[0m\u001b[0;34m[\u001b[0m\u001b[0;34m:\u001b[0m\u001b[0;34m,\u001b[0m \u001b[0;36m0\u001b[0m\u001b[0;34m]\u001b[0m\u001b[0;34m\u001b[0m\u001b[0m\n\u001b[0m\u001b[1;32m      3\u001b[0m     \u001b[0mPC2\u001b[0m \u001b[0;34m=\u001b[0m \u001b[0mMatrix\u001b[0m\u001b[0;34m.\u001b[0m\u001b[0mT\u001b[0m\u001b[0;34m@\u001b[0m\u001b[0mPCs\u001b[0m\u001b[0;34m[\u001b[0m\u001b[0;34m:\u001b[0m\u001b[0;34m,\u001b[0m \u001b[0;36m1\u001b[0m\u001b[0;34m]\u001b[0m\u001b[0;34m\u001b[0m\u001b[0m\n\u001b[1;32m      4\u001b[0m     \u001b[0mPC3\u001b[0m \u001b[0;34m=\u001b[0m \u001b[0mMatrix\u001b[0m\u001b[0;34m.\u001b[0m\u001b[0mT\u001b[0m\u001b[0;34m@\u001b[0m\u001b[0mPCs\u001b[0m\u001b[0;34m[\u001b[0m\u001b[0;34m:\u001b[0m\u001b[0;34m,\u001b[0m \u001b[0;36m2\u001b[0m\u001b[0;34m]\u001b[0m\u001b[0;34m\u001b[0m\u001b[0m\n\u001b[1;32m      5\u001b[0m \u001b[0;34m\u001b[0m\u001b[0m\n",
      "\u001b[0;31mValueError\u001b[0m: shapes (2504,1105538) and (1001,) not aligned: 1105538 (dim 1) != 1001 (dim 0)"
     ]
    }
   ],
   "source": [
    "PlotPC122D(ConvertedGT, PCs, samples, \"1000 Genomes chr21 unfiltered\", \"unfiltered_chr21_PC1PC2.jpg\")"
   ]
  },
  {
   "cell_type": "code",
   "execution_count": 74,
   "metadata": {},
   "outputs": [],
   "source": [
    "def PlotPC232D(Matrix, PCs, samples, plot_name, file_name):\n",
    "    PC1 = Matrix.T@PCs[:, 0]\n",
    "    PC2 = Matrix.T@PCs[:, 1]\n",
    "    PC3 = Matrix.T@PCs[:, 2]\n",
    "    \n",
    "    plt.figure(figsize=(15,15))\n",
    "    if len(samples) == 1:\n",
    "        plt.scatter(PC3,PC3, label = pop_arr[:][0])\n",
    "    else:\n",
    "        for samp in samples:\n",
    "            plt.scatter(PC2[samp],PC3[samp], label = pop_arr[samp][0])\n",
    "    plt.xlabel(\"PC2\",fontsize=30,labelpad=20)\n",
    "    plt.xticks([])\n",
    "    plt.ylabel(\"PC3\",fontsize=30,labelpad=20)\n",
    "    plt.yticks([])\n",
    "    plt.legend(loc =3,prop={'size':20})\n",
    "    plt.title(plot_name,fontsize=30,pad = 40)\n",
    "\n",
    "    plt.savefig(file_name,quality=95)"
   ]
  },
  {
   "cell_type": "code",
   "execution_count": 75,
   "metadata": {},
   "outputs": [
    {
     "ename": "ValueError",
     "evalue": "shapes (2504,1105538) and (1001,) not aligned: 1105538 (dim 1) != 1001 (dim 0)",
     "output_type": "error",
     "traceback": [
      "\u001b[0;31m---------------------------------------------------------------------------\u001b[0m",
      "\u001b[0;31mValueError\u001b[0m                                Traceback (most recent call last)",
      "\u001b[0;32m<ipython-input-75-242a804cc873>\u001b[0m in \u001b[0;36m<module>\u001b[0;34m()\u001b[0m\n\u001b[0;32m----> 1\u001b[0;31m \u001b[0mPlotPC232D\u001b[0m\u001b[0;34m(\u001b[0m\u001b[0mConvertedGT\u001b[0m\u001b[0;34m,\u001b[0m \u001b[0mPCs\u001b[0m\u001b[0;34m,\u001b[0m \u001b[0msamples\u001b[0m\u001b[0;34m,\u001b[0m \u001b[0;34m\"1000 Genomes chr21 unfiltered\"\u001b[0m\u001b[0;34m,\u001b[0m \u001b[0;34m\"unfiltered_chr21_PC2PC3.jpg\"\u001b[0m\u001b[0;34m)\u001b[0m\u001b[0;34m\u001b[0m\u001b[0m\n\u001b[0m",
      "\u001b[0;32m<ipython-input-74-7144ed327f62>\u001b[0m in \u001b[0;36mPlotPC232D\u001b[0;34m(Matrix, PCs, samples, plot_name, file_name)\u001b[0m\n\u001b[1;32m      1\u001b[0m \u001b[0;32mdef\u001b[0m \u001b[0mPlotPC232D\u001b[0m\u001b[0;34m(\u001b[0m\u001b[0mMatrix\u001b[0m\u001b[0;34m,\u001b[0m \u001b[0mPCs\u001b[0m\u001b[0;34m,\u001b[0m \u001b[0msamples\u001b[0m\u001b[0;34m,\u001b[0m \u001b[0mplot_name\u001b[0m\u001b[0;34m,\u001b[0m \u001b[0mfile_name\u001b[0m\u001b[0;34m)\u001b[0m\u001b[0;34m:\u001b[0m\u001b[0;34m\u001b[0m\u001b[0m\n\u001b[0;32m----> 2\u001b[0;31m     \u001b[0mPC1\u001b[0m \u001b[0;34m=\u001b[0m \u001b[0mMatrix\u001b[0m\u001b[0;34m.\u001b[0m\u001b[0mT\u001b[0m\u001b[0;34m@\u001b[0m\u001b[0mPCs\u001b[0m\u001b[0;34m[\u001b[0m\u001b[0;34m:\u001b[0m\u001b[0;34m,\u001b[0m \u001b[0;36m0\u001b[0m\u001b[0;34m]\u001b[0m\u001b[0;34m\u001b[0m\u001b[0m\n\u001b[0m\u001b[1;32m      3\u001b[0m     \u001b[0mPC2\u001b[0m \u001b[0;34m=\u001b[0m \u001b[0mMatrix\u001b[0m\u001b[0;34m.\u001b[0m\u001b[0mT\u001b[0m\u001b[0;34m@\u001b[0m\u001b[0mPCs\u001b[0m\u001b[0;34m[\u001b[0m\u001b[0;34m:\u001b[0m\u001b[0;34m,\u001b[0m \u001b[0;36m1\u001b[0m\u001b[0;34m]\u001b[0m\u001b[0;34m\u001b[0m\u001b[0m\n\u001b[1;32m      4\u001b[0m     \u001b[0mPC3\u001b[0m \u001b[0;34m=\u001b[0m \u001b[0mMatrix\u001b[0m\u001b[0;34m.\u001b[0m\u001b[0mT\u001b[0m\u001b[0;34m@\u001b[0m\u001b[0mPCs\u001b[0m\u001b[0;34m[\u001b[0m\u001b[0;34m:\u001b[0m\u001b[0;34m,\u001b[0m \u001b[0;36m2\u001b[0m\u001b[0;34m]\u001b[0m\u001b[0;34m\u001b[0m\u001b[0m\n\u001b[1;32m      5\u001b[0m \u001b[0;34m\u001b[0m\u001b[0m\n",
      "\u001b[0;31mValueError\u001b[0m: shapes (2504,1105538) and (1001,) not aligned: 1105538 (dim 1) != 1001 (dim 0)"
     ]
    }
   ],
   "source": [
    "PlotPC232D(ConvertedGT, PCs, samples, \"1000 Genomes chr21 unfiltered\", \"unfiltered_chr21_PC2PC3.jpg\")"
   ]
  },
  {
   "cell_type": "markdown",
   "metadata": {},
   "source": [
    "Now we run the unfiltered data, but standardized"
   ]
  },
  {
   "cell_type": "code",
   "execution_count": null,
   "metadata": {},
   "outputs": [],
   "source": [
    "pca = PCA(n_components=3)\n",
    "PCs = pca.fit_transform(StandardizedUnfiltered)"
   ]
  },
  {
   "cell_type": "code",
   "execution_count": null,
   "metadata": {},
   "outputs": [],
   "source": [
    "PlotPCA3D(StandardizedUnfiltered, PCs, samples, \"1000 Genomes chr21 unfiltered standardized\", \"unfiltered_standardized_chr21_PCA.jpg\")"
   ]
  },
  {
   "cell_type": "code",
   "execution_count": null,
   "metadata": {},
   "outputs": [],
   "source": [
    "PlotPC122D(StandardizedUnfiltered, PCs, samples, \"1000 Genomes chr21 unfiltered standardized\", \"unfiltered_standardized_chr21_PC1PC2.jpg\")"
   ]
  },
  {
   "cell_type": "code",
   "execution_count": null,
   "metadata": {},
   "outputs": [],
   "source": [
    "PlotPC232D(StandardizedUnfiltered, PCs, samples, \"1000 Genomes chr21 unfiltered standardized\", \"unfiltered_standardized_chr21_PC2PC3.jpg\")"
   ]
  },
  {
   "cell_type": "markdown",
   "metadata": {},
   "source": [
    "Now the filtered data, unstandardized"
   ]
  },
  {
   "cell_type": "code",
   "execution_count": 112,
   "metadata": {},
   "outputs": [
    {
     "name": "stdout",
     "output_type": "stream",
     "text": [
      "[0.62175091 0.03969516 0.01573704]\n"
     ]
    }
   ],
   "source": [
    "print(pca.explained_variance_ratio_)"
   ]
  },
  {
   "cell_type": "code",
   "execution_count": 111,
   "metadata": {
    "scrolled": true
   },
   "outputs": [
    {
     "ename": "AttributeError",
     "evalue": "'PCA' object has no attribute 'explaines_variance_ratio_'",
     "output_type": "error",
     "traceback": [
      "\u001b[0;31m---------------------------------------------------------------------------\u001b[0m",
      "\u001b[0;31mAttributeError\u001b[0m                            Traceback (most recent call last)",
      "\u001b[0;32m<ipython-input-111-bc441aad69b4>\u001b[0m in \u001b[0;36m<module>\u001b[0;34m()\u001b[0m\n\u001b[1;32m      1\u001b[0m \u001b[0mpca\u001b[0m \u001b[0;34m=\u001b[0m \u001b[0mPCA\u001b[0m\u001b[0;34m(\u001b[0m\u001b[0mn_components\u001b[0m\u001b[0;34m=\u001b[0m\u001b[0;36m3\u001b[0m\u001b[0;34m)\u001b[0m\u001b[0;34m\u001b[0m\u001b[0m\n\u001b[1;32m      2\u001b[0m \u001b[0mPCs\u001b[0m \u001b[0;34m=\u001b[0m \u001b[0mpca\u001b[0m\u001b[0;34m.\u001b[0m\u001b[0mfit_transform\u001b[0m\u001b[0;34m(\u001b[0m\u001b[0mConvertedSamples\u001b[0m\u001b[0;34m)\u001b[0m\u001b[0;34m\u001b[0m\u001b[0m\n\u001b[0;32m----> 3\u001b[0;31m \u001b[0mprint\u001b[0m\u001b[0;34m(\u001b[0m\u001b[0mpca\u001b[0m\u001b[0;34m.\u001b[0m\u001b[0mexplaines_variance_ratio_\u001b[0m\u001b[0;34m)\u001b[0m\u001b[0;34m\u001b[0m\u001b[0m\n\u001b[0m",
      "\u001b[0;31mAttributeError\u001b[0m: 'PCA' object has no attribute 'explaines_variance_ratio_'"
     ]
    }
   ],
   "source": [
    "pca = PCA(n_components=3)\n",
    "PCs = pca.fit_transform(ConvertedSamples)\n",
    "print(pca.explained_variance_ratio_)"
   ]
  },
  {
   "cell_type": "code",
   "execution_count": null,
   "metadata": {},
   "outputs": [],
   "source": [
    "PlotPCA3D(ConvertedSamples, PCs, samples, \"1000 Genomes chr21 filtered\", \"filtered_chr21_PCA.jpg\")"
   ]
  },
  {
   "cell_type": "code",
   "execution_count": null,
   "metadata": {},
   "outputs": [],
   "source": [
    "PlotPC122D(ConvertedSamples, PCs, samples, \"1000 Genomes chr21 filtered\", \"filtered_chr21_PC1PC2.jpg\")"
   ]
  },
  {
   "cell_type": "code",
   "execution_count": null,
   "metadata": {},
   "outputs": [],
   "source": [
    "PlotPC232D(ConvertedSamples, PCs, samples, \"1000 Genomes chr21 filtered\", \"filtered_chr21_PC2PC3.jpg\")"
   ]
  },
  {
   "cell_type": "markdown",
   "metadata": {},
   "source": [
    "Now the filtered standardized data"
   ]
  },
  {
   "cell_type": "code",
   "execution_count": 113,
   "metadata": {},
   "outputs": [],
   "source": [
    "# standardize FILTERED\n",
    "standardized_gt_filtered = (ConvertedSamples.T - np.mean(ConvertedSamples,axis=1))/(np.std(ConvertedSamples,axis=1) + np.finfo(float).eps)"
   ]
  },
  {
   "cell_type": "code",
   "execution_count": 114,
   "metadata": {},
   "outputs": [
    {
     "name": "stdout",
     "output_type": "stream",
     "text": [
      "[0.01861468 0.00569046 0.00398389]\n"
     ]
    }
   ],
   "source": [
    "pca = PCA(n_components=3)\n",
    "PCs = pca.fit_transform(standardized_gt_filtered)\n",
    "print(pca.explained_variance_ratio_)"
   ]
  },
  {
   "cell_type": "code",
   "execution_count": null,
   "metadata": {},
   "outputs": [],
   "source": [
    "PlotPCA3D(StandardizedSamples, PCs, samples, \"1000 Genomes chr21 filtered standardized\", \"filtered_standardized_chr21_PCA.jpg\")"
   ]
  },
  {
   "cell_type": "code",
   "execution_count": null,
   "metadata": {},
   "outputs": [],
   "source": [
    "PlotPC122D(StandardizedSamples, PCs, samples, \"1000 Genomes chr21 filtered standardized\", \"filtered_standardized_chr21_PC1PC2.jpg\")"
   ]
  },
  {
   "cell_type": "code",
   "execution_count": null,
   "metadata": {},
   "outputs": [],
   "source": [
    "PlotPC232D(StandardizedSamples, PCs, samples, \"1000 Genomes chr21 filtered standardized\", \"filtered_standardized_chr21_PC2PC3.jpg\")"
   ]
  },
  {
   "cell_type": "markdown",
   "metadata": {},
   "source": [
    "Now we plot all the Superpopulations"
   ]
  },
  {
   "cell_type": "markdown",
   "metadata": {},
   "source": [
    "EAS (East Asia)"
   ]
  },
  {
   "cell_type": "code",
   "execution_count": null,
   "metadata": {
    "scrolled": true
   },
   "outputs": [],
   "source": [
    "pca = PCA(n_components=3)\n",
    "PCs = pca.fit_transform(ConvertedGT[:, samples[0]])\n",
    "\n",
    "PlotPCA3D(ConvertedGT[:, samples[0]], PCs, [samples[0]], \"1000 Genomes chr21 east asia unfiltered\", \"unfiltered_chr21_EAS_PCA.jpg\")\n",
    "PlotPC122D(ConvertedGT[:, samples[0]], PCs, [samples[0]], \"1000 Genomes chr21 east asia unfiltered\", \"unfiltered_chr21_EAS_PC1PC2.jpg\")\n",
    "PlotPC232D(ConvertedGT[:, samples[0]], PCs, [samples[0]], \"1000 Genomes chr21 east asia unfiltered\", \"unfiltered_chr21_EAS_PC1PC2.jpg\")"
   ]
  },
  {
   "cell_type": "code",
   "execution_count": null,
   "metadata": {},
   "outputs": [],
   "source": [
    "pca = PCA(n_components=3)\n",
    "PCs = pca.fit_transform(StandardizedUnfiltered[:, samples[0]])\n",
    "\n",
    "PlotPCA3D(StandardizedUnfiltered[:, samples[0]], PCs, [samples[0]], \"1000 Genomes chr21 east asia unfiltered standardized\", \"unfiltered_standardized_chr21_EAS_PCA.jpg\")\n",
    "PlotPC122D(StandardizedUnfiltered[:, samples[0]], PCs, [samples[0]], \"1000 Genomes chr21 east asia unfiltered standardized\", \"unfiltered_standardized_chr21_EAS_PC1PC2.jpg\")\n",
    "PlotPC232D(StandardizedUnfiltered[:, samples[0]], PCs, [samples[0]], \"1000 Genomes chr21 east asia unfiltered standardized\", \"unfiltered_standardized_chr21_EAS_PC1PC2.jpg\")"
   ]
  },
  {
   "cell_type": "code",
   "execution_count": null,
   "metadata": {},
   "outputs": [],
   "source": [
    "pca = PCA(n_components=3)\n",
    "PCs = pca.fit_transform(ConvertedSamples[:, samples[0]])\n",
    "\n",
    "PlotPCA3D(ConvertedSamples[:, samples[0]], PCs, [samples[0]], \"1000 Genomes chr21 east asia filtered\", \"filtered_chr21_EAS_PCA.jpg\")\n",
    "PlotPC122D(ConvertedSamples[:, samples[0]], PCs, [samples[0]], \"1000 Genomes chr21 east asia filtered\", \"filtered_chr21_EAS_PC1PC2.jpg\")\n",
    "PlotPC232D(ConvertedSamples[:, samples[0]], PCs, [samples[0]], \"1000 Genomes chr21 east asia filtered\", \"filtered_chr21_EAS_PC1PC2.jpg\")"
   ]
  },
  {
   "cell_type": "code",
   "execution_count": null,
   "metadata": {},
   "outputs": [],
   "source": [
    "pca = PCA(n_components=3)\n",
    "PCs = pca.fit_transform(StandardizedSamples[:, samples[0]])\n",
    "\n",
    "PlotPCA3D(StandardizedSamples[:, samples[0]], PCs, [samples[0]], \"1000 Genomes chr21 east asia filtered standardized\", \"filtered_standardized_chr21_EAS_PCA.jpg\")\n",
    "PlotPC122D(StandardizedSamples[:, samples[0]], PCs, [samples[0]], \"1000 Genomes chr21 east asia filtered standardized\", \"filtered_standardized_chr21_EAS_PC1PC2.jpg\")\n",
    "PlotPC232D(StandardizedSamples[:, samples[0]], PCs, [samples[0]], \"1000 Genomes chr21 east asia filtered standardized\", \"filtered_standardized_chr21_EAS_PC1PC2.jpg\")"
   ]
  },
  {
   "cell_type": "markdown",
   "metadata": {},
   "source": [
    "SAS (South Asia)"
   ]
  },
  {
   "cell_type": "code",
   "execution_count": null,
   "metadata": {
    "scrolled": false
   },
   "outputs": [],
   "source": [
    "pca = PCA(n_components=3)\n",
    "PCs = pca.fit_transform(ConvertedGT[:, samples[1]])\n",
    "\n",
    "PlotPCA3D(ConvertedGT[:, samples[1]], PCs, [samples[1]], \"1000 Genomes chr21 south asia unfiltered\", \"unfiltered_chr21_SAS_PCA.jpg\")\n",
    "PlotPC122D(ConvertedGT[:, samples[1]], PCs, [samples[1]], \"1000 Genomes chr21 south asia unfiltered\", \"unfiltered_chr21_SAS_PC1PC2.jpg\")\n",
    "PlotPC232D(ConvertedGT[:, samples[1]], PCs, [samples[1]], \"1000 Genomes chr21 south asia unfiltered\", \"unfiltered_chr21_SAS_PC1PC2.jpg\")"
   ]
  },
  {
   "cell_type": "code",
   "execution_count": null,
   "metadata": {},
   "outputs": [],
   "source": [
    "pca = PCA(n_components=3)\n",
    "PCs = pca.fit_transform(StandardizedUnfiltered[:, samples[1]])\n",
    "\n",
    "PlotPCA3D(StandardizedUnfiltered[:, samples[1]], PCs, [samples[1]], \"1000 Genomes chr21 south asia unfiltered standardized\", \"unfiltered_standardized_chr21_SAS_PCA.jpg\")\n",
    "PlotPC122D(StandardizedUnfiltered[:, samples[1]], PCs, [samples[1]], \"1000 Genomes chr21 south asia unfiltered standardized\", \"unfiltered_standardized_chr21_SAS_PC1PC2.jpg\")\n",
    "PlotPC232D(StandardizedUnfiltered[:, samples[1]], PCs, [samples[1]], \"1000 Genomes chr21 south asia unfiltered standardized\", \"unfiltered_standardized_chr21_SAS_PC1PC2.jpg\")"
   ]
  },
  {
   "cell_type": "code",
   "execution_count": null,
   "metadata": {
    "scrolled": false
   },
   "outputs": [],
   "source": [
    "pca = PCA(n_components=3)\n",
    "print(ConvertedSamples.shape)\n",
    "PCs = pca.fit_transform(ConvertedSamples[:,samples[1]])\n",
    "\n",
    "PlotPCA3D(ConvertedSamples[:, samples[1]], PCs, [samples[1]], \"1000 Genomes chr21 south asia filtered\", \"filtered_chr21_SAS_PCA.jpg\")\n",
    "PlotPC122D(ConvertedSamples[:, samples[1]], PCs, [samples[1]], \"1000 Genomes chr21 south asia filtered\", \"filtered_chr21_SAS_PC1PC2.jpg\")\n",
    "PlotPC232D(ConvertedSamples[:, samples[1]], PCs, [samples[1]], \"1000 Genomes chr21 south asia filtered\", \"filtered_chr21_SAS_PC1PC2.jpg\")"
   ]
  },
  {
   "cell_type": "code",
   "execution_count": null,
   "metadata": {},
   "outputs": [],
   "source": [
    "pca = PCA(n_components=3)\n",
    "PCs = pca.fit_transform(StandardizedSamples[:, samples[1]])\n",
    "\n",
    "PlotPCA3D(StandardizedSamples[:, samples[1]], PCs, [samples[1]], \"1000 Genomes chr21 south asia filtered standardized\", \"filtered_standardized_chr21_SAS_PCA.jpg\")\n",
    "PlotPC122D(StandardizedSamples[:, samples[1]], PCs, [samples[1]], \"1000 Genomes chr21 south asia filtered standardized\", \"filtered_standardized_chr21_SAS_PC1PC2.jpg\")\n",
    "PlotPC232D(StandardizedSamples[:, samples[1]], PCs, [samples[1]], \"1000 Genomes chr21 south asia filtered standardized\", \"filtered_standardized_chr21_SAS_PC1PC2.jpg\")"
   ]
  },
  {
   "cell_type": "markdown",
   "metadata": {},
   "source": [
    "AFR (Africa)"
   ]
  },
  {
   "cell_type": "code",
   "execution_count": null,
   "metadata": {},
   "outputs": [],
   "source": [
    "pca = PCA(n_components=3)\n",
    "PCs = pca.fit_transform(ConvertedGT[:, samples[2]])\n",
    "\n",
    "PlotPCA3D(ConvertedGT[:, samples[2]], PCs, [samples[2]], \"1000 Genomes chr21 africa unfiltered\", \"unfiltered_chr21_AFR_PCA.jpg\")\n",
    "PlotPC122D(ConvertedGT[:, samples[2]], PCs, [samples[2]], \"1000 Genomes chr21 africa unfiltered\", \"unfiltered_chr21_AFR_PC1PC2.jpg\")\n",
    "PlotPC232D(ConvertedGT[:, samples[2]], PCs, [samples[2]], \"1000 Genomes chr21 africa unfiltered\", \"unfiltered_chr21_AFR_PC1PC2.jpg\")"
   ]
  },
  {
   "cell_type": "code",
   "execution_count": null,
   "metadata": {},
   "outputs": [],
   "source": [
    "pca = PCA(n_components=3)\n",
    "PCs = pca.fit_transform(StandardizedUnfiltered[:, samples[2]])\n",
    "\n",
    "PlotPCA3D(StandardizedUnfiltered[:, samples[2]], PCs, [samples[2]], \"1000 Genomes chr21 africa unfiltered standardized\", \"unfiltered_standardized_chr21_AFR_PCA.jpg\")\n",
    "PlotPC122D(StandardizedUnfiltered[:, samples[2]], PCs, [samples[2]], \"1000 Genomes chr21 africa unfiltered standardized\", \"unfiltered_standardized_chr21_AFR_PC1PC2.jpg\")\n",
    "PlotPC232D(StandardizedUnfiltered[:, samples[2]], PCs, [samples[2]], \"1000 Genomes chr21 africa unfiltered standardized\", \"unfiltered_standardized_chr21_AFR_PC1PC2.jpg\")"
   ]
  },
  {
   "cell_type": "code",
   "execution_count": null,
   "metadata": {},
   "outputs": [],
   "source": [
    "pca = PCA(n_components=3)\n",
    "PCs = pca.fit_transform(ConvertedSamples[:, samples[2]])\n",
    "\n",
    "PlotPCA3D(ConvertedSamples[:, samples[2]], PCs, [samples[2]], \"1000 Genomes chr21 africa filtered\", \"filtered_chr21_AFR_PCA.jpg\")\n",
    "PlotPC122D(ConvertedSamples[:, samples[2]], PCs, [samples[2]], \"1000 Genomes chr21 africa filtered\", \"filtered_chr21_AFR_PC1PC2.jpg\")\n",
    "PlotPC232D(ConvertedSamples[:, samples[2]], PCs, [samples[2]], \"1000 Genomes chr21 africa filtered\", \"filtered_chr21_AFR_PC1PC2.jpg\")"
   ]
  },
  {
   "cell_type": "code",
   "execution_count": null,
   "metadata": {},
   "outputs": [],
   "source": [
    "pca = PCA(n_components=3)\n",
    "PCs = pca.fit_transform(StandardizedSamples[:, samples[2]])\n",
    "\n",
    "PlotPCA3D(StandardizedSamples[:, samples[2]], PCs, [samples[2]], \"1000 Genomes chr21 africa filtered standardized\", \"filtered_standardized_chr21_AFR_PCA.jpg\")\n",
    "PlotPC122D(StandardizedSamples[:, samples[2]], PCs, [samples[2]], \"1000 Genomes chr21 africa filtered standardized\", \"filtered_standardized_chr21_AFR_PC1PC2.jpg\")\n",
    "PlotPC232D(StandardizedSamples[:, samples[2]], PCs, [samples[2]], \"1000 Genomes chr21 africa filtered standardized\", \"filtered_standardized_chr21_AFR_PC1PC2.jpg\")"
   ]
  },
  {
   "cell_type": "markdown",
   "metadata": {},
   "source": [
    "EUR (Europe)"
   ]
  },
  {
   "cell_type": "code",
   "execution_count": null,
   "metadata": {},
   "outputs": [],
   "source": [
    "pca = PCA(n_components=3)\n",
    "PCs = pca.fit_transform(ConvertedGT[:, samples[3]])\n",
    "\n",
    "PlotPCA3D(ConvertedGT[:, samples[3]], PCs, [samples[3]], \"1000 Genomes chr21 europe unfiltered\", \"unfiltered_chr21_EUR_PCA.jpg\")\n",
    "PlotPC122D(ConvertedGT[:, samples[3]], PCs, [samples[3]], \"1000 Genomes chr21 europe unfiltered\", \"unfiltered_chr21_EUR_PC1PC2.jpg\")\n",
    "PlotPC232D(ConvertedGT[:, samples[3]], PCs, [samples[3]], \"1000 Genomes chr21 europe unfiltered\", \"unfiltered_chr21_EUR_PC1PC2.jpg\")"
   ]
  },
  {
   "cell_type": "code",
   "execution_count": null,
   "metadata": {},
   "outputs": [],
   "source": [
    "pca = PCA(n_components=3)\n",
    "PCs = pca.fit_transform(StandardizedUnfiltered[:, samples[3]])\n",
    "\n",
    "PlotPCA3D(StandardizedUnfiltered[:, samples[3]], PCs, [samples[3]], \"1000 Genomes chr21 europe unfiltered standardized\", \"unfiltered_standardized_chr21_EUR_PCA.jpg\")\n",
    "PlotPC122D(StandardizedUnfiltered[:, samples[3]], PCs, [samples[3]], \"1000 Genomes chr21 europe unfiltered standardized\", \"unfiltered_standardized_chr21_EUR_PC1PC2.jpg\")\n",
    "PlotPC232D(StandardizedUnfiltered[:, samples[3]], PCs, [samples[3]], \"1000 Genomes chr21 europe unfiltered standardized\", \"unfiltered_standardized_chr21_EUR_PC1PC2.jpg\")"
   ]
  },
  {
   "cell_type": "code",
   "execution_count": null,
   "metadata": {},
   "outputs": [],
   "source": [
    "pca = PCA(n_components=3)\n",
    "PCs = pca.fit_transform(ConvertedSamples[:, samples[3]])\n",
    "\n",
    "PlotPCA3D(ConvertedSamples[:, samples[3]], PCs, [samples[3]], \"1000 Genomes chr21 europe filtered\", \"filtered_chr21_EUR_PCA.jpg\")\n",
    "PlotPC122D(ConvertedSamples[:, samples[3]], PCs, [samples[3]], \"1000 Genomes chr21 europe filtered\", \"filtered_chr21_EUR_PC1PC2.jpg\")\n",
    "PlotPC232D(ConvertedSamples[:, samples[3]], PCs, [samples[3]], \"1000 Genomes chr21 europe filtered\", \"filtered_chr21_EUR_PC1PC2.jpg\")"
   ]
  },
  {
   "cell_type": "code",
   "execution_count": null,
   "metadata": {},
   "outputs": [],
   "source": [
    "pca = PCA(n_components=3)\n",
    "PCs = pca.fit_transform(StandardizedSamples[:, samples[3]])\n",
    "\n",
    "PlotPCA3D(StandardizedSamples[:, samples[3]], PCs, [samples[3]], \"1000 Genomes chr21 europe filtered standardized\", \"filtered_standardized_chr21_EUR_PCA.jpg\")\n",
    "PlotPC122D(StandardizedSamples[:, samples[3]], PCs, [samples[3]], \"1000 Genomes chr21 europe filtered standardized\", \"filtered_standardized_chr21_EUR_PC1PC2.jpg\")\n",
    "PlotPC232D(StandardizedSamples[:, samples[3]], PCs, [samples[3]], \"1000 Genomes chr21 europe filtered standardized\", \"filtered_standardized_chr21_EUR_PC1PC2.jpg\")"
   ]
  },
  {
   "cell_type": "markdown",
   "metadata": {},
   "source": [
    "AMR (America)"
   ]
  },
  {
   "cell_type": "code",
   "execution_count": null,
   "metadata": {},
   "outputs": [],
   "source": [
    "pca = PCA(n_components=3)\n",
    "PCs = pca.fit_transform(ConvertedGT[:, samples[4]])\n",
    "\n",
    "PlotPCA3D(ConvertedGT[:, samples[4]], PCs, [samples[4]], \"1000 Genomes chr21 america unfiltered\", \"unfiltered_chr21_AMR_PCA.jpg\")\n",
    "PlotPC122D(ConvertedGT[:, samples[4]], PCs, [samples[4]], \"1000 Genomes chr21 america unfiltered\", \"unfiltered_chr21_AMR_PC1PC2.jpg\")\n",
    "PlotPC232D(ConvertedGT[:, samples[4]], PCs, [samples[4]], \"1000 Genomes chr21 america unfiltered\", \"unfiltered_chr21_AMR_PC1PC2.jpg\")"
   ]
  },
  {
   "cell_type": "code",
   "execution_count": null,
   "metadata": {},
   "outputs": [],
   "source": [
    "pca = PCA(n_components=3)\n",
    "PCs = pca.fit_transform(StandardizedUnfiltered[:, samples[4]])\n",
    "\n",
    "PlotPCA3D(StandardizedUnfiltered[:, samples[4]], PCs, [samples[4]], \"1000 Genomes chr21 america unfiltered standardized\", \"unfiltered_standardized_chr21_AMR_PCA.jpg\")\n",
    "PlotPC122D(StandardizedUnfiltered[:, samples[4]], PCs, [samples[4]], \"1000 Genomes chr21 america unfiltered standardized\", \"unfiltered_standardized_chr21_AMR_PC1PC2.jpg\")\n",
    "PlotPC232D(StandardizedUnfiltered[:, samples[4]], PCs, [samples[4]], \"1000 Genomes chr21 america unfiltered standardized\", \"unfiltered_standardized_chr21_AMR_PC1PC2.jpg\")"
   ]
  },
  {
   "cell_type": "code",
   "execution_count": null,
   "metadata": {},
   "outputs": [],
   "source": [
    "pca = PCA(n_components=3)\n",
    "PCs = pca.fit_transform(ConvertedSamples[:, samples[4]])\n",
    "\n",
    "PlotPCA3D(ConvertedSamples[:, samples[4]], PCs, [samples[4]], \"1000 Genomes chr21 america filtered\", \"filtered_chr21_AMR_PCA.jpg\")\n",
    "PlotPC122D(ConvertedSamples[:, samples[4]], PCs, [samples[4]], \"1000 Genomes chr21 america filtered\", \"filtered_chr21_AMR_PC1PC2.jpg\")\n",
    "PlotPC232D(ConvertedSamples[:, samples[4]], PCs, [samples[4]], \"1000 Genomes chr21 america filtered\", \"filtered_chr21_AMR_PC1PC2.jpg\")"
   ]
  },
  {
   "cell_type": "code",
   "execution_count": null,
   "metadata": {},
   "outputs": [],
   "source": [
    "pca = PCA(n_components=3)\n",
    "PCs = pca.fit_transform(StandardizedSamples[:, samples[4]])\n",
    "\n",
    "PlotPCA3D(StandardizedSamples[:, samples[4]], PCs, [samples[4]], \"1000 Genomes chr21 america filtered standardized\", \"filtered_standardized_chr21_AMR_PCA.jpg\")\n",
    "PlotPC122D(StandardizedSamples[:, samples[4]], PCs, [samples[4]], \"1000 Genomes chr21 america filtered standardized\", \"filtered_standardized_chr21_AMR_PC1PC2.jpg\")\n",
    "PlotPC232D(StandardizedSamples[:, samples[4]], PCs, [samples[4]], \"1000 Genomes chr21 america filtered standardized\", \"filtered_standardized_chr21_AMR_PC1PC2.jpg\")"
   ]
  },
  {
   "cell_type": "code",
   "execution_count": null,
   "metadata": {},
   "outputs": [],
   "source": []
  },
  {
   "cell_type": "code",
   "execution_count": null,
   "metadata": {},
   "outputs": [],
   "source": []
  }
 ],
 "metadata": {
  "kernelspec": {
   "display_name": "Python 3",
   "language": "python",
   "name": "python3"
  },
  "language_info": {
   "codemirror_mode": {
    "name": "ipython",
    "version": 3
   },
   "file_extension": ".py",
   "mimetype": "text/x-python",
   "name": "python",
   "nbconvert_exporter": "python",
   "pygments_lexer": "ipython3",
   "version": "3.6.5"
  }
 },
 "nbformat": 4,
 "nbformat_minor": 2
}
