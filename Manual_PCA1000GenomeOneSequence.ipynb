{
 "cells": [
  {
   "cell_type": "code",
   "execution_count": 3,
   "metadata": {},
   "outputs": [],
   "source": [
    "### Manual PCA Analysis\n",
    "### BIOS 26211 Final Project\n",
    "### Bruno Petrucci and Christian Porras\n",
    "\n",
    "import numpy as np\n",
    "import matplotlib.pyplot as plt"
   ]
  },
  {
   "cell_type": "code",
   "execution_count": 7,
   "metadata": {},
   "outputs": [],
   "source": [
    "### First create some Reference Sequence just to test the code\n",
    "Nucleotides = ['A', 'T', 'C', 'G']\n",
    "ReferenceSequence = np.array(np.random.choice(Nucleotides, 10, p=[0.25, 0.25, 0.25, 0.25]))\n",
    "# Of course it's unrealistic for both of them to be random but it's just for testing - this will be the reference\n",
    "\n",
    "### Create some random sequence to compare\n",
    "AnalysisSequence = np.array(np.random.choice(Nucleotides, 10, p=[0.25, 0.25, 0.25, 0.25]))"
   ]
  },
  {
   "cell_type": "code",
   "execution_count": 10,
   "metadata": {},
   "outputs": [],
   "source": [
    "### Define the function that transforms the sequence into a PCA-ble matrix\n",
    "def TransformSequence(Sequence, Reference):\n",
    "    Transform = np.zeros(len(Sequence))\n",
    "    for i in range(len(Transform)):\n",
    "        if Sequence[i] != Reference[i]:\n",
    "            Transform[i] = 1\n",
    "        \n",
    "    return Transform"
   ]
  },
  {
   "cell_type": "code",
   "execution_count": 11,
   "metadata": {},
   "outputs": [
    {
     "name": "stdout",
     "output_type": "stream",
     "text": [
      "['T' 'T' 'C' 'G' 'G' 'C' 'C' 'G' 'G' 'A']\n",
      "['C' 'T' 'T' 'G' 'T' 'G' 'G' 'G' 'A' 'G']\n",
      "[1. 0. 1. 0. 1. 1. 1. 0. 1. 1.]\n"
     ]
    }
   ],
   "source": [
    "### Test for the sequences generated above\n",
    "print(ReferenceSequence)\n",
    "print(AnalysisSequence)\n",
    "TransformedSequence = TransformSequence(AnalysisSequence, ReferenceSequence)\n",
    "print(TransformedSequence)"
   ]
  },
  {
   "cell_type": "code",
   "execution_count": 14,
   "metadata": {},
   "outputs": [
    {
     "name": "stdout",
     "output_type": "stream",
     "text": [
      "[[1. 0. 1. 0. 1. 1. 1. 0. 1. 1.]\n",
      " [0. 1. 1. 1. 0. 1. 1. 1. 1. 1.]\n",
      " [1. 1. 1. 1. 0. 0. 1. 0. 1. 1.]\n",
      " [1. 1. 0. 1. 1. 0. 1. 0. 1. 1.]\n",
      " [0. 1. 1. 1. 1. 1. 1. 1. 1. 1.]\n",
      " [1. 1. 1. 0. 1. 1. 1. 1. 0. 1.]\n",
      " [1. 1. 0. 0. 1. 1. 1. 1. 1. 1.]\n",
      " [1. 1. 0. 1. 1. 1. 0. 1. 1. 1.]\n",
      " [1. 1. 1. 0. 1. 1. 0. 1. 0. 0.]\n",
      " [1. 1. 1. 1. 1. 1. 1. 1. 0. 1.]]\n"
     ]
    }
   ],
   "source": [
    "### Generate a bunch of sequences to test the PCA analysis\n",
    "SequencesGenerated = 10\n",
    "Sequences = np.array([AnalysisSequence for i in range(SequencesGenerated)])\n",
    "\n",
    "for i in range(1,SequencesGenerated):\n",
    "    NewSequence = np.array(np.random.choice(Nucleotides, 10, p=[0.25, 0.25, 0.25, 0.25]))\n",
    "    Sequences[:][:][i] = NewSequence\n",
    "\n",
    "TransformedSequences = np.zeros((SequencesGenerated, len(AnalysisSequence)))\n",
    "\n",
    "for i in range(SequencesGenerated):\n",
    "    TransformedSequences[i,:] = TransformSequence(Sequences[i,:], ReferenceSequence)\n",
    "\n",
    "print(TransformedSequences)"
   ]
  },
  {
   "cell_type": "code",
   "execution_count": 15,
   "metadata": {},
   "outputs": [
    {
     "name": "stdout",
     "output_type": "stream",
     "text": [
      "[[ 0.01654915 -0.37927799]\n",
      " [-0.19866325  0.52377885]\n",
      " [-0.47565856 -0.0517868 ]\n",
      " [-0.38616086 -0.50248993]\n",
      " [-0.06178777  0.31318508]\n",
      " [ 0.39877617 -0.08999528]\n",
      " [ 0.14859388 -0.40619782]\n",
      " [ 0.05654139 -0.22271107]\n",
      " [ 0.59635633  0.00740398]\n",
      " [ 0.2028045   0.07609318]]\n",
      "[0.32614387 0.21050486]\n"
     ]
    },
    {
     "data": {
      "text/plain": [
       "<function matplotlib.pyplot.show(*args, **kw)>"
      ]
     },
     "execution_count": 15,
     "metadata": {},
     "output_type": "execute_result"
    },
    {
     "data": {
      "image/png": "[encoded data removed]",
      "text/plain": [
       "<Figure size 432x288 with 1 Axes>"
      ]
     },
     "metadata": {},
     "output_type": "display_data"
    }
   ],
   "source": [
    "### Define PCA function (using code from my Lab 1)\n",
    "def PCA(M, d, k):\n",
    "    if (d == 0):\n",
    "        Row = True\n",
    "    elif (d == 1):\n",
    "        Row = False\n",
    "    else:\n",
    "        return 0\n",
    "    CovM = np.cov(M, rowvar = Row)\n",
    "    eVals, eVecs = np.linalg.eig(CovM)\n",
    "    CoefDet = eVals/sum(eVals)\n",
    "    \n",
    "    return eVecs[:,0:k], CoefDet[0:k]\n",
    "\n",
    "PC, CoefDet = PCA(TransformedSequences, 0, 2)\n",
    "\n",
    "print(PC)\n",
    "print(CoefDet)\n",
    "\n",
    "TransformedSequencesProj1 = TransformedSequences@PC[:, 0]\n",
    "TransformedSequencesProj2 = TransformedSequences@PC[:, 1]\n",
    "\n",
    "plt.scatter(TransformedSequencesProj1, TransformedSequencesProj2)\n",
    "plt.show"
   ]
  },
  {
   "cell_type": "code",
   "execution_count": 11,
   "metadata": {},
   "outputs": [
    {
     "name": "stdout",
     "output_type": "stream",
     "text": [
      "[  0 100 200 300 400]\n"
     ]
    }
   ],
   "source": [
    "A = np.array(range(500))\n",
    "print(A[A % 100 == 0])"
   ]
  }
 ],
 "metadata": {
  "kernelspec": {
   "display_name": "Python 3",
   "language": "python",
   "name": "python3"
  },
  "language_info": {
   "codemirror_mode": {
    "name": "ipython",
    "version": 3
   },
   "file_extension": ".py",
   "mimetype": "text/x-python",
   "name": "python",
   "nbconvert_exporter": "python",
   "pygments_lexer": "ipython3",
   "version": "3.6.5"
  }
 },
 "nbformat": 4,
 "nbformat_minor": 2
}
