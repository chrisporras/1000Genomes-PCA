{
 "cells": [
  {
   "cell_type": "markdown",
   "metadata": {},
   "source": [
    "In this document, we have code to\n",
    "\n",
    "* Translate code in the form of vcf written by the 1000 Genome people to the raw sequences\n",
    "* Compare these sequences with reference sequences to create matrices of allele frequency \n",
    "* Run PCA analysis on these matrices\n"
   ]
  },
  {
   "cell_type": "code",
   "execution_count": 1,
   "metadata": {},
   "outputs": [
    {
     "name": "stderr",
     "output_type": "stream",
     "text": [
      "C:\\Users\\Petrucci\\Anaconda3\\lib\\site-packages\\h5py\\__init__.py:36: FutureWarning: Conversion of the second argument of issubdtype from `float` to `np.floating` is deprecated. In future, it will be treated as `np.float64 == np.dtype(float).type`.\n",
      "  from ._conv import register_converters as _register_converters\n"
     ]
    }
   ],
   "source": [
    "### Manual PCA Analysis\n",
    "### BIOS 26211 Final Project\n",
    "### Bruno Petrucci and Christian Porras\n",
    "\n",
    "import numpy as np\n",
    "import matplotlib.pyplot as plt\n",
    "import allel\n",
    "from sklearn.decomposition import PCA"
   ]
  },
  {
   "cell_type": "markdown",
   "metadata": {},
   "source": [
    "Following is the code originally created to simulate some random sequences to test the rest of the code"
   ]
  },
  {
   "cell_type": "code",
   "execution_count": 2,
   "metadata": {},
   "outputs": [],
   "source": [
    "### First create some Reference Sequence just to test the code\n",
    "Nucleotides = ['A', 'T', 'C', 'G']\n",
    "ReferenceSequence1 = np.array([np.random.choice(Nucleotides, 10, p=[0.25, 0.25, 0.25, 0.25])])\n",
    "ReferenceSequence2 = np.array([np.random.choice(Nucleotides, 10, p=[0.25, 0.25, 0.25, 0.25])])\n",
    "ReferenceSequence = np.append(ReferenceSequence1, ReferenceSequence2, axis=0)\n",
    "# Of course it's unrealistic for both of them to be random but it's just for testing - this will be the reference\n",
    "\n",
    "### Create some random sequence to compare\n",
    "AnalysisSequence1 = np.array([np.random.choice(Nucleotides, 10, p=[0.25, 0.25, 0.25, 0.25])])\n",
    "AnalysisSequence2 = np.array([np.random.choice(Nucleotides, 10, p=[0.25, 0.25, 0.25, 0.25])])\n",
    "AnalysisSequence = np.append(AnalysisSequence1, AnalysisSequence2, axis=0)"
   ]
  },
  {
   "cell_type": "markdown",
   "metadata": {},
   "source": [
    "Here is the function that transforms sequences into matrices with 0, 1 and 2."
   ]
  },
  {
   "cell_type": "code",
   "execution_count": 3,
   "metadata": {},
   "outputs": [],
   "source": [
    "### Define the function that transforms the sequence into a PCA-ble matrix\n",
    "def TransformSequence(Sequence, Reference):\n",
    "    Transform = np.zeros(Sequence.shape[1])\n",
    "    for i in range(Sequence.shape[1]):\n",
    "        if (Sequence[0][i] == Reference[0][i] and Sequence[1][i] == Reference[1][i]) or (Sequence[0][i] == Reference[1][i] and Sequence[1][i] == Reference[0][i]):\n",
    "            Transform[i] = 0\n",
    "        elif Sequence[0][i] == Reference[0][i] or Sequence[1][i] == Reference[1][i] or Sequence[0][i] == Reference[1][i] or Sequence[1][i] == Reference[0][i]:\n",
    "            Transform[i] = 1\n",
    "        else:\n",
    "            Transform[i] = 2\n",
    "        \n",
    "    return Transform"
   ]
  },
  {
   "cell_type": "code",
   "execution_count": 4,
   "metadata": {},
   "outputs": [
    {
     "name": "stdout",
     "output_type": "stream",
     "text": [
      "[['A' 'T' 'A' 'G' 'T' 'T' 'G' 'T' 'C' 'T']\n",
      " ['A' 'C' 'A' 'C' 'G' 'A' 'G' 'G' 'C' 'C']]\n",
      "[['T' 'G' 'C' 'A' 'A' 'A' 'G' 'T' 'T' 'T']\n",
      " ['G' 'G' 'G' 'A' 'A' 'G' 'C' 'T' 'G' 'A']]\n",
      "[2. 2. 2. 2. 2. 1. 1. 1. 2. 1.]\n"
     ]
    }
   ],
   "source": [
    "### Test for the sequences generated above\n",
    "print(ReferenceSequence)\n",
    "print(AnalysisSequence)\n",
    "TransformedSequence = TransformSequence(AnalysisSequence, ReferenceSequence)\n",
    "print(TransformedSequence)"
   ]
  },
  {
   "cell_type": "code",
   "execution_count": 5,
   "metadata": {},
   "outputs": [
    {
     "name": "stdout",
     "output_type": "stream",
     "text": [
      "[[2. 2. 2. 2. 2. 1. 1. 1. 2. 1.]\n",
      " [2. 1. 2. 2. 1. 2. 2. 1. 0. 2.]\n",
      " [0. 2. 2. 1. 2. 2. 2. 2. 0. 2.]\n",
      " [2. 2. 2. 1. 2. 1. 0. 2. 0. 2.]\n",
      " [2. 2. 2. 2. 1. 2. 0. 2. 2. 2.]\n",
      " [2. 2. 2. 2. 1. 2. 0. 2. 2. 2.]\n",
      " [0. 1. 2. 1. 2. 2. 2. 1. 2. 1.]\n",
      " [2. 2. 0. 2. 1. 2. 2. 2. 2. 1.]\n",
      " [2. 1. 2. 2. 1. 2. 2. 2. 2. 1.]\n",
      " [2. 1. 0. 1. 1. 2. 2. 2. 0. 2.]]\n"
     ]
    }
   ],
   "source": [
    "### Generate a bunch of sequences to test the PCA analysis\n",
    "SequencesGenerated = 10\n",
    "Sequences = np.array([AnalysisSequence for i in range(SequencesGenerated)])\n",
    "\n",
    "for i in range(1,SequencesGenerated):\n",
    "    NewSequence = np.array([np.random.choice(Nucleotides, 10, p=[0.25, 0.25, 0.25, 0.25])])\n",
    "    Sequences[:][:][i] = NewSequence\n",
    "\n",
    "TransformedSequences = np.zeros((SequencesGenerated, Sequences.shape[2]))\n",
    "\n",
    "for i in range(SequencesGenerated):\n",
    "    TransformedSequences[i,:] = TransformSequence(Sequences[i,:,:], ReferenceSequence)\n",
    "\n",
    "print(TransformedSequences)"
   ]
  },
  {
   "cell_type": "markdown",
   "metadata": {},
   "source": [
    "Now we have the actual 1000 genome data, where we will translate and run PCA on"
   ]
  },
  {
   "cell_type": "code",
   "execution_count": 7,
   "metadata": {},
   "outputs": [],
   "source": [
    "### Get the actual 1000 Genome 21st Chromosome data\n",
    "callset = allel.read_vcf('ALL.chr21.phase3_shapeit2_mvncall_integrated_v5a.20130502.genotypes.vcf.gz')"
   ]
  },
  {
   "cell_type": "markdown",
   "metadata": {},
   "source": [
    "In the callset we only have the genotype matrix, so we write code to transform it back into sequences"
   ]
  },
  {
   "cell_type": "code",
   "execution_count": 7,
   "metadata": {},
   "outputs": [
    {
     "name": "stdout",
     "output_type": "stream",
     "text": [
      "(1105538, 2504, 2)\n"
     ]
    }
   ],
   "source": [
    "### Call the genotype matrix\n",
    "GT = callset['calldata/GT']\n",
    "GT1 = GT\n",
    "print(GT.shape)"
   ]
  },
  {
   "cell_type": "code",
   "execution_count": 8,
   "metadata": {},
   "outputs": [
    {
     "name": "stdout",
     "output_type": "stream",
     "text": [
      "(1105538, 3)\n"
     ]
    }
   ],
   "source": [
    "Var = np.array(callset['variants/ALT'])\n",
    "print(Var.shape)"
   ]
  },
  {
   "cell_type": "code",
   "execution_count": 9,
   "metadata": {},
   "outputs": [
    {
     "name": "stdout",
     "output_type": "stream",
     "text": [
      "(1105538,)\n"
     ]
    }
   ],
   "source": [
    "Ref = np.array(callset['variants/REF'])\n",
    "print(Ref.shape)"
   ]
  },
  {
   "cell_type": "code",
   "execution_count": 10,
   "metadata": {},
   "outputs": [],
   "source": [
    "### Define a function to write a sequence from the allel data\n",
    "def WriteSequence(Reference, Variations, GenMat):\n",
    "    Sequence1  = np.array([np.repeat('A', len(Reference))])\n",
    "    Sequence2  = np.array([np.repeat('A', len(Reference))])\n",
    "    Sequence = np.append(Sequence1, Sequence2, axis = 0)\n",
    "    \n",
    "    for i in range(Sequence1.shape[0]):\n",
    "        Options = np.array([Ref[i], Var[i, 0], Var[i, 1], Var[i, 2]])\n",
    "        Sequence[:, i] = np.array([Options[GenMat[i, 0]], Options[GenMat[i, 1]]])\n",
    "    return Sequence.T"
   ]
  },
  {
   "cell_type": "code",
   "execution_count": 11,
   "metadata": {},
   "outputs": [
    {
     "ename": "KeyboardInterrupt",
     "evalue": "",
     "output_type": "error",
     "traceback": [
      "\u001b[1;31m---------------------------------------------------------------------------\u001b[0m",
      "\u001b[1;31mKeyboardInterrupt\u001b[0m                         Traceback (most recent call last)",
      "\u001b[1;32m<ipython-input-11-38c36207f0de>\u001b[0m in \u001b[0;36m<module>\u001b[1;34m()\u001b[0m\n\u001b[0;32m      7\u001b[0m \u001b[0mRawSequenceTest\u001b[0m \u001b[1;33m=\u001b[0m \u001b[0mnp\u001b[0m\u001b[1;33m.\u001b[0m\u001b[0marray\u001b[0m\u001b[1;33m(\u001b[0m\u001b[1;33m[\u001b[0m\u001b[0mRawSequence1\u001b[0m\u001b[1;33m,\u001b[0m \u001b[0mRawSequence2\u001b[0m\u001b[1;33m]\u001b[0m\u001b[1;33m)\u001b[0m\u001b[1;33m.\u001b[0m\u001b[0mT\u001b[0m\u001b[1;33m\u001b[0m\u001b[0m\n\u001b[0;32m      8\u001b[0m \u001b[1;32mfor\u001b[0m \u001b[0mi\u001b[0m \u001b[1;32min\u001b[0m \u001b[0mrange\u001b[0m\u001b[1;33m(\u001b[0m\u001b[0mGT\u001b[0m\u001b[1;33m.\u001b[0m\u001b[0mshape\u001b[0m\u001b[1;33m[\u001b[0m\u001b[1;36m1\u001b[0m\u001b[1;33m]\u001b[0m\u001b[1;33m-\u001b[0m\u001b[1;36m1\u001b[0m\u001b[1;33m)\u001b[0m\u001b[1;33m:\u001b[0m\u001b[1;33m\u001b[0m\u001b[0m\n\u001b[1;32m----> 9\u001b[1;33m     \u001b[0mRawSequence\u001b[0m \u001b[1;33m=\u001b[0m \u001b[0mnp\u001b[0m\u001b[1;33m.\u001b[0m\u001b[0mappend\u001b[0m\u001b[1;33m(\u001b[0m\u001b[0mRawSequence\u001b[0m\u001b[1;33m,\u001b[0m \u001b[0mRawSequenceTest\u001b[0m\u001b[1;33m,\u001b[0m \u001b[0maxis\u001b[0m \u001b[1;33m=\u001b[0m \u001b[1;36m1\u001b[0m\u001b[1;33m)\u001b[0m\u001b[1;33m\u001b[0m\u001b[0m\n\u001b[0m\u001b[0;32m     10\u001b[0m \u001b[0mprint\u001b[0m\u001b[1;33m(\u001b[0m\u001b[0mRawSequence\u001b[0m\u001b[1;33m.\u001b[0m\u001b[0mshape\u001b[0m\u001b[1;33m)\u001b[0m\u001b[1;33m\u001b[0m\u001b[0m\n\u001b[0;32m     11\u001b[0m \u001b[1;33m\u001b[0m\u001b[0m\n",
      "\u001b[1;32m~\\Anaconda3\\lib\\site-packages\\numpy\\lib\\function_base.py\u001b[0m in \u001b[0;36mappend\u001b[1;34m(arr, values, axis)\u001b[0m\n\u001b[0;32m   5164\u001b[0m         \u001b[0mvalues\u001b[0m \u001b[1;33m=\u001b[0m \u001b[0mravel\u001b[0m\u001b[1;33m(\u001b[0m\u001b[0mvalues\u001b[0m\u001b[1;33m)\u001b[0m\u001b[1;33m\u001b[0m\u001b[0m\n\u001b[0;32m   5165\u001b[0m         \u001b[0maxis\u001b[0m \u001b[1;33m=\u001b[0m \u001b[0marr\u001b[0m\u001b[1;33m.\u001b[0m\u001b[0mndim\u001b[0m\u001b[1;33m-\u001b[0m\u001b[1;36m1\u001b[0m\u001b[1;33m\u001b[0m\u001b[0m\n\u001b[1;32m-> 5166\u001b[1;33m     \u001b[1;32mreturn\u001b[0m \u001b[0mconcatenate\u001b[0m\u001b[1;33m(\u001b[0m\u001b[1;33m(\u001b[0m\u001b[0marr\u001b[0m\u001b[1;33m,\u001b[0m \u001b[0mvalues\u001b[0m\u001b[1;33m)\u001b[0m\u001b[1;33m,\u001b[0m \u001b[0maxis\u001b[0m\u001b[1;33m=\u001b[0m\u001b[0maxis\u001b[0m\u001b[1;33m)\u001b[0m\u001b[1;33m\u001b[0m\u001b[0m\n\u001b[0m",
      "\u001b[1;31mKeyboardInterrupt\u001b[0m: "
     ]
    }
   ],
   "source": [
    "### Write the sequences for the 1000 genome data\n",
    "### Memory error if you try the full length\n",
    "RawSequence1 = np.array([np.repeat('A', Ref.shape[0])])\n",
    "RawSequence2 = np.array([np.repeat('A', Ref.shape[0])])\n",
    "RawSequence = np.array([RawSequence1, RawSequence2]).T\n",
    "RawSequenceTest = np.array([RawSequence1, RawSequence2]).T\n",
    "for i in range(GT.shape[1]-1):\n",
    "    RawSequence = np.append(RawSequence, RawSequenceTest, axis = 1)\n",
    "print(RawSequence.shape)\n",
    "\n",
    "for i in range(GT.shape[1]):\n",
    "    Sequence = WriteSequence(Ref, Var, GT[:, i, :])\n",
    "    RawSequence[:, i, :] = Sequence\n",
    "\n",
    "print(RawSequence.shape)"
   ]
  },
  {
   "cell_type": "code",
   "execution_count": 14,
   "metadata": {},
   "outputs": [
    {
     "ename": "MemoryError",
     "evalue": "",
     "output_type": "error",
     "traceback": [
      "\u001b[1;31m---------------------------------------------------------------------------\u001b[0m",
      "\u001b[1;31mMemoryError\u001b[0m                               Traceback (most recent call last)",
      "\u001b[1;32m<ipython-input-14-f5070afd4539>\u001b[0m in \u001b[0;36m<module>\u001b[1;34m()\u001b[0m\n\u001b[0;32m      2\u001b[0m \u001b[0mGT1\u001b[0m\u001b[1;33m[\u001b[0m\u001b[0mGT1\u001b[0m \u001b[1;33m==\u001b[0m \u001b[1;36m2\u001b[0m\u001b[1;33m]\u001b[0m \u001b[1;33m=\u001b[0m \u001b[1;36m1\u001b[0m\u001b[1;33m\u001b[0m\u001b[0m\n\u001b[0;32m      3\u001b[0m \u001b[0mGT1\u001b[0m\u001b[1;33m[\u001b[0m\u001b[0mGT1\u001b[0m \u001b[1;33m==\u001b[0m \u001b[1;36m3\u001b[0m\u001b[1;33m]\u001b[0m \u001b[1;33m=\u001b[0m \u001b[1;36m1\u001b[0m\u001b[1;33m\u001b[0m\u001b[0m\n\u001b[1;32m----> 4\u001b[1;33m \u001b[0mConvertedGT\u001b[0m \u001b[1;33m=\u001b[0m \u001b[0mnp\u001b[0m\u001b[1;33m.\u001b[0m\u001b[0msum\u001b[0m\u001b[1;33m(\u001b[0m\u001b[0mGT1\u001b[0m\u001b[1;33m,\u001b[0m \u001b[0maxis\u001b[0m\u001b[1;33m=\u001b[0m\u001b[1;36m2\u001b[0m\u001b[1;33m)\u001b[0m\u001b[1;33m\u001b[0m\u001b[0m\n\u001b[0m\u001b[0;32m      5\u001b[0m \u001b[0mprint\u001b[0m\u001b[1;33m(\u001b[0m\u001b[0mConvertedGT\u001b[0m\u001b[1;33m.\u001b[0m\u001b[0mshape\u001b[0m\u001b[1;33m)\u001b[0m\u001b[1;33m\u001b[0m\u001b[0m\n",
      "\u001b[1;32m~\\Anaconda3\\lib\\site-packages\\numpy\\core\\fromnumeric.py\u001b[0m in \u001b[0;36msum\u001b[1;34m(a, axis, dtype, out, keepdims)\u001b[0m\n\u001b[0;32m   1880\u001b[0m             \u001b[1;32mreturn\u001b[0m \u001b[0msum\u001b[0m\u001b[1;33m(\u001b[0m\u001b[0maxis\u001b[0m\u001b[1;33m=\u001b[0m\u001b[0maxis\u001b[0m\u001b[1;33m,\u001b[0m \u001b[0mdtype\u001b[0m\u001b[1;33m=\u001b[0m\u001b[0mdtype\u001b[0m\u001b[1;33m,\u001b[0m \u001b[0mout\u001b[0m\u001b[1;33m=\u001b[0m\u001b[0mout\u001b[0m\u001b[1;33m,\u001b[0m \u001b[1;33m**\u001b[0m\u001b[0mkwargs\u001b[0m\u001b[1;33m)\u001b[0m\u001b[1;33m\u001b[0m\u001b[0m\n\u001b[0;32m   1881\u001b[0m     return _methods._sum(a, axis=axis, dtype=dtype,\n\u001b[1;32m-> 1882\u001b[1;33m                          out=out, **kwargs)\n\u001b[0m\u001b[0;32m   1883\u001b[0m \u001b[1;33m\u001b[0m\u001b[0m\n\u001b[0;32m   1884\u001b[0m \u001b[1;33m\u001b[0m\u001b[0m\n",
      "\u001b[1;32m~\\Anaconda3\\lib\\site-packages\\numpy\\core\\_methods.py\u001b[0m in \u001b[0;36m_sum\u001b[1;34m(a, axis, dtype, out, keepdims)\u001b[0m\n\u001b[0;32m     30\u001b[0m \u001b[1;33m\u001b[0m\u001b[0m\n\u001b[0;32m     31\u001b[0m \u001b[1;32mdef\u001b[0m \u001b[0m_sum\u001b[0m\u001b[1;33m(\u001b[0m\u001b[0ma\u001b[0m\u001b[1;33m,\u001b[0m \u001b[0maxis\u001b[0m\u001b[1;33m=\u001b[0m\u001b[1;32mNone\u001b[0m\u001b[1;33m,\u001b[0m \u001b[0mdtype\u001b[0m\u001b[1;33m=\u001b[0m\u001b[1;32mNone\u001b[0m\u001b[1;33m,\u001b[0m \u001b[0mout\u001b[0m\u001b[1;33m=\u001b[0m\u001b[1;32mNone\u001b[0m\u001b[1;33m,\u001b[0m \u001b[0mkeepdims\u001b[0m\u001b[1;33m=\u001b[0m\u001b[1;32mFalse\u001b[0m\u001b[1;33m)\u001b[0m\u001b[1;33m:\u001b[0m\u001b[1;33m\u001b[0m\u001b[0m\n\u001b[1;32m---> 32\u001b[1;33m     \u001b[1;32mreturn\u001b[0m \u001b[0mumr_sum\u001b[0m\u001b[1;33m(\u001b[0m\u001b[0ma\u001b[0m\u001b[1;33m,\u001b[0m \u001b[0maxis\u001b[0m\u001b[1;33m,\u001b[0m \u001b[0mdtype\u001b[0m\u001b[1;33m,\u001b[0m \u001b[0mout\u001b[0m\u001b[1;33m,\u001b[0m \u001b[0mkeepdims\u001b[0m\u001b[1;33m)\u001b[0m\u001b[1;33m\u001b[0m\u001b[0m\n\u001b[0m\u001b[0;32m     33\u001b[0m \u001b[1;33m\u001b[0m\u001b[0m\n\u001b[0;32m     34\u001b[0m \u001b[1;32mdef\u001b[0m \u001b[0m_prod\u001b[0m\u001b[1;33m(\u001b[0m\u001b[0ma\u001b[0m\u001b[1;33m,\u001b[0m \u001b[0maxis\u001b[0m\u001b[1;33m=\u001b[0m\u001b[1;32mNone\u001b[0m\u001b[1;33m,\u001b[0m \u001b[0mdtype\u001b[0m\u001b[1;33m=\u001b[0m\u001b[1;32mNone\u001b[0m\u001b[1;33m,\u001b[0m \u001b[0mout\u001b[0m\u001b[1;33m=\u001b[0m\u001b[1;32mNone\u001b[0m\u001b[1;33m,\u001b[0m \u001b[0mkeepdims\u001b[0m\u001b[1;33m=\u001b[0m\u001b[1;32mFalse\u001b[0m\u001b[1;33m)\u001b[0m\u001b[1;33m:\u001b[0m\u001b[1;33m\u001b[0m\u001b[0m\n",
      "\u001b[1;31mMemoryError\u001b[0m: "
     ]
    }
   ],
   "source": [
    "### Here we transform the GT arrays into 0, 1 and 2 in light of the Novembre paper\n",
    "GT1[GT1 == 2] = 1\n",
    "GT1[GT1 == 3] = 1\n",
    "ConvertedGT = np.sum(GT1, axis=2)\n",
    "print(ConvertedGT.shape)"
   ]
  },
  {
   "cell_type": "markdown",
   "metadata": {},
   "source": [
    "Finally, we run the PCA"
   ]
  },
  {
   "cell_type": "code",
   "execution_count": 13,
   "metadata": {},
   "outputs": [
    {
     "ename": "NameError",
     "evalue": "name 'ConvertedGT' is not defined",
     "output_type": "error",
     "traceback": [
      "\u001b[1;31m---------------------------------------------------------------------------\u001b[0m",
      "\u001b[1;31mNameError\u001b[0m                                 Traceback (most recent call last)",
      "\u001b[1;32m<ipython-input-13-a0d3b85142f8>\u001b[0m in \u001b[0;36m<module>\u001b[1;34m()\u001b[0m\n\u001b[0;32m     17\u001b[0m \u001b[1;33m\u001b[0m\u001b[0m\n\u001b[0;32m     18\u001b[0m \u001b[0mpca\u001b[0m \u001b[1;33m=\u001b[0m \u001b[0mPCA\u001b[0m\u001b[1;33m(\u001b[0m\u001b[0mn_components\u001b[0m\u001b[1;33m=\u001b[0m\u001b[1;36m2\u001b[0m\u001b[1;33m)\u001b[0m\u001b[1;33m\u001b[0m\u001b[0m\n\u001b[1;32m---> 19\u001b[1;33m \u001b[0mPCs\u001b[0m \u001b[1;33m=\u001b[0m \u001b[0mpca\u001b[0m\u001b[1;33m.\u001b[0m\u001b[0mfit_transform\u001b[0m\u001b[1;33m(\u001b[0m\u001b[0mConvertedGT\u001b[0m\u001b[1;33m)\u001b[0m\u001b[1;33m\u001b[0m\u001b[0m\n\u001b[0m",
      "\u001b[1;31mNameError\u001b[0m: name 'ConvertedGT' is not defined"
     ]
    }
   ],
   "source": [
    "### Define PCA function (using code from my Lab 1)\n",
    "\n",
    "### The manual PCA returns a Memory Error, have to figure out\n",
    "### So does the sklearn PCA sigh\n",
    "def ManualPCA(M, d, k):\n",
    "    if (d == 0):\n",
    "        Row = True\n",
    "    elif (d == 1):\n",
    "        Row = False\n",
    "    else:\n",
    "        return 0\n",
    "    CovM = np.cov(M, rowvar = Row)\n",
    "    eVals, eVecs = np.linalg.eig(CovM)\n",
    "    CoefDet = eVals/sum(eVals)\n",
    "    \n",
    "    return eVecs[:,0:k], CoefDet[0:k]\n",
    "\n",
    "pca = PCA(n_components=2)\n",
    "PCs = pca.fit_transform(ConvertedGT)"
   ]
  },
  {
   "cell_type": "code",
   "execution_count": null,
   "metadata": {},
   "outputs": [],
   "source": [
    "### Memory error as above\n",
    "ConvertedGTProj1 = ConvertedGT.T@PCs[:, 0]\n",
    "ConvertedGTProj2 = ConvertedGT.T@PCs[:, 1]\n",
    "\n",
    "plt.scatter(ConvertedGTProj1, ConvertedGTProj2)"
   ]
  },
  {
   "cell_type": "markdown",
   "metadata": {},
   "source": [
    "Now we do a rudimentary linkage filtering before the PCA - we divide the GT rows into $1000$ pieces, and sample randomly from the inner $500$ of each piece"
   ]
  },
  {
   "cell_type": "code",
   "execution_count": null,
   "metadata": {},
   "outputs": [],
   "source": [
    "SegmentLength = 1000\n",
    "NumSegments = int(ConvertedGT.shape[0]/SegmentLength)\n",
    "Remainder = ConvertedGT.shape[0] % NumSegments\n",
    "Indices = np.array([NumSegments*i for i in range(int(ConvertedGT.shape[0]/NumSegments)+1)])\n",
    "\n",
    "Samples = np.zeros((len(Indices), GT.shape[1], GT.shape[2]))\n",
    "ConvertedSamples = np.zeros((len(Indices), ConvertedGT.shape[1]))\n",
    "RefSegment = np.repeat('A', len(Indices))\n",
    "VarSegment =np.array([np.repeat('A', len(Indices)), np.repeat('A', len(Indices)), np.repeat('A', len(Indices))]).T\n",
    "ConvertedGTRows = range(ConvertedGT.shape[0])\n",
    "\n",
    "for i in range(len(Samples.shape[0])):\n",
    "    if i != Samples.shape[0]-1:\n",
    "        Row = np.random.choice(ConvertedGTRows[(Indices[i]+int(NumSegments/4)):(Indices[i+1]-int(NumSegments/4))], 1, p=np.repeat(1/int(NumSegments/2+1), int(NumSegments/2)+1))\n",
    "        ConvertedSamples[i] = ConvertedGT[Row][:]\n",
    "        Samples[i] = GT[Row][:][:]\n",
    "        RefSegment[i] = Ref[Row][0]\n",
    "        VarSegment[i] = Var[Row]\n",
    "    else:\n",
    "        Row = np.random.choice(ConvertedGTRows[(Indices[i]+int(Remainder/4)):(ConvertedGT.shape[0]-int(Remainder/4))], 1, p=np.repeat(1/(Remainder/2+1), int(Remainder/2+1)))\n",
    "        ConvertedSamples[i] = ConvertedGT[Row][:]\n",
    "        Samples[i] = GT[Row][:][:]\n",
    "        RefSegment[i] = Ref[Row][0]\n",
    "        VarSegment[i] = Var[Row]\n",
    "\n",
    "\n",
    "print(RefSegment)\n",
    "print(Samples)\n",
    "print(ConvertedSamples) \n",
    "print(VarSegment)"
   ]
  },
  {
   "cell_type": "code",
   "execution_count": null,
   "metadata": {},
   "outputs": [],
   "source": [
    "### There is bug\n",
    "RawSequenceSegment1 = np.array([np.repeat('A', RefSegment.shape[0])])\n",
    "RawSequenceSegment2 = np.array([np.repeat('A', RefSegment.shape[0])])\n",
    "RawSequenceSegment = np.array([RawSequenceSegment1, RawSequenceSegment2]).T\n",
    "RawSequenceSegmentTest = np.array([RawSequence1, RawSequence2]).T\n",
    "for i in range(Samples.shape[1]-1):\n",
    "    RawSequenceSegment = np.append(RawSequenceSegment, RawSequenceSegmentTest, axis = 1)\n",
    "print(RawSequenceSegment.shape)\n",
    "\n",
    "for i in range(Samples.shape[1]):\n",
    "    Sequence = WriteSequence(RefSegment, VarSegment, Samples[:, i, :])\n",
    "    RawSequenceSegment[:, i, :] = Sequence"
   ]
  },
  {
   "cell_type": "code",
   "execution_count": null,
   "metadata": {},
   "outputs": [],
   "source": [
    "### Mean center the ConvertedSamples\n",
    "mean = np.mean(ConvertedSamples, axis = 1)\n",
    "stdev = np.std(ConvertedSamples, axis = 1)\n",
    "\n",
    "meanMatrix = np.array([mean for i in range(ConvertedSamples.shape[1])])\n",
    "stdevMatrix = np.array([stdev for i in range(ConvertedSamples.shape[1])])\n",
    "ConvertedSamplesStandardized = (ConvertedSamples - meanMatrix)/stdevMatrix"
   ]
  },
  {
   "cell_type": "code",
   "execution_count": null,
   "metadata": {},
   "outputs": [],
   "source": [
    "pca = PCA(n_components=2)\n",
    "PCs = pca.fit_transform(ConvertedSamples)"
   ]
  },
  {
   "cell_type": "code",
   "execution_count": null,
   "metadata": {},
   "outputs": [],
   "source": [
    "ConvertedSamplesProj1 = ConvertedSamples.T@PCs[:, 0]\n",
    "ConvertedSamplesProj2 = ConvertedSamples.T@PCs[:, 1]\n",
    "\n",
    "plt.scatter(SamplesProj1, SamplesProj2)"
   ]
  }
 ],
 "metadata": {
  "kernelspec": {
   "display_name": "Python 3",
   "language": "python",
   "name": "python3"
  },
  "language_info": {
   "codemirror_mode": {
    "name": "ipython",
    "version": 3
   },
   "file_extension": ".py",
   "mimetype": "text/x-python",
   "name": "python",
   "nbconvert_exporter": "python",
   "pygments_lexer": "ipython3",
   "version": "3.6.5"
  }
 },
 "nbformat": 4,
 "nbformat_minor": 2
}
