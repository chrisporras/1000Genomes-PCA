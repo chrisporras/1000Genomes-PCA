{
 "cells": [
  {
   "cell_type": "markdown",
   "metadata": {},
   "source": [
    "In this document, we have code for\n",
    "\n",
    "* Translate code in the form of vcf written by the 1000 Genome people to the raw sequences\n",
    "* Compare these sequences with reference sequences to create matrices of allele frequency \n",
    "* Run PCA analysis on these matrices\n"
   ]
  },
  {
   "cell_type": "code",
   "execution_count": 1,
   "metadata": {},
   "outputs": [
    {
     "name": "stderr",
     "output_type": "stream",
     "text": [
      "C:\\Users\\Petrucci\\Anaconda3\\lib\\site-packages\\h5py\\__init__.py:36: FutureWarning: Conversion of the second argument of issubdtype from `float` to `np.floating` is deprecated. In future, it will be treated as `np.float64 == np.dtype(float).type`.\n",
      "  from ._conv import register_converters as _register_converters\n"
     ]
    }
   ],
   "source": [
    "### Manual PCA Analysis\n",
    "### BIOS 26211 Final Project\n",
    "### Bruno Petrucci and Christian Porras\n",
    "\n",
    "import numpy as np\n",
    "import matplotlib.pyplot as plt\n",
    "import allel"
   ]
  },
  {
   "cell_type": "markdown",
   "metadata": {},
   "source": [
    "Following is the code originally created to simulate some random sequences to test the rest of the code"
   ]
  },
  {
   "cell_type": "code",
   "execution_count": 2,
   "metadata": {},
   "outputs": [],
   "source": [
    "### First create some Reference Sequence just to test the code\n",
    "Nucleotides = ['A', 'T', 'C', 'G']\n",
    "ReferenceSequence1 = np.array([np.random.choice(Nucleotides, 10, p=[0.25, 0.25, 0.25, 0.25])])\n",
    "ReferenceSequence2 = np.array([np.random.choice(Nucleotides, 10, p=[0.25, 0.25, 0.25, 0.25])])\n",
    "ReferenceSequence = np.append(ReferenceSequence1, ReferenceSequence2, axis=0)\n",
    "# Of course it's unrealistic for both of them to be random but it's just for testing - this will be the reference\n",
    "\n",
    "### Create some random sequence to compare\n",
    "AnalysisSequence1 = np.array([np.random.choice(Nucleotides, 10, p=[0.25, 0.25, 0.25, 0.25])])\n",
    "AnalysisSequence2 = np.array([np.random.choice(Nucleotides, 10, p=[0.25, 0.25, 0.25, 0.25])])\n",
    "AnalysisSequence = np.append(AnalysisSequence1, AnalysisSequence2, axis=0)"
   ]
  },
  {
   "cell_type": "markdown",
   "metadata": {},
   "source": [
    "Here is the function that transforms sequences into matrices with 0, 1 and 2.\n",
    "# Need to change some things"
   ]
  },
  {
   "cell_type": "code",
   "execution_count": 3,
   "metadata": {},
   "outputs": [],
   "source": [
    "### Define the function that transforms the sequence into a PCA-ble matrix\n",
    "def TransformSequence(Sequence, Reference):\n",
    "    Transform = np.zeros(Sequence.shape[1])\n",
    "    for i in range(Sequence.shape[1]):\n",
    "        if (Sequence[0][i] == Reference[0][i] and Sequence[1][i] == Reference[1][i]) or (Sequence[0][i] == Reference[1][i] and Sequence[1][i] == Reference[0][i]):\n",
    "            Transform[i] = 0\n",
    "        elif Sequence[0][i] == Reference[0][i] or Sequence[1][i] == Reference[1][i] or Sequence[0][i] == Reference[1][i] or Sequence[1][i] == Reference[0][i]:\n",
    "            Transform[i] = 1\n",
    "        else:\n",
    "            Transform[i] = 2\n",
    "        \n",
    "    return Transform"
   ]
  },
  {
   "cell_type": "code",
   "execution_count": 4,
   "metadata": {},
   "outputs": [
    {
     "name": "stdout",
     "output_type": "stream",
     "text": [
      "[['G' 'T' 'T' 'A' 'G' 'C' 'G' 'A' 'G' 'A']\n",
      " ['C' 'A' 'A' 'G' 'T' 'G' 'C' 'C' 'A' 'A']]\n",
      "[['A' 'G' 'A' 'C' 'C' 'T' 'G' 'A' 'A' 'A']\n",
      " ['T' 'T' 'G' 'C' 'G' 'C' 'C' 'G' 'A' 'A']]\n",
      "[2. 1. 1. 2. 1. 1. 0. 1. 1. 0.]\n"
     ]
    }
   ],
   "source": [
    "### Test for the sequences generated above\n",
    "print(ReferenceSequence)\n",
    "print(AnalysisSequence)\n",
    "TransformedSequence = TransformSequence(AnalysisSequence, ReferenceSequence)\n",
    "print(TransformedSequence)"
   ]
  },
  {
   "cell_type": "code",
   "execution_count": 5,
   "metadata": {},
   "outputs": [
    {
     "name": "stdout",
     "output_type": "stream",
     "text": [
      "[[2. 1. 1. 2. 1. 1. 0. 1. 1. 0.]\n",
      " [2. 1. 2. 2. 1. 1. 1. 1. 2. 2.]\n",
      " [1. 2. 1. 1. 2. 2. 2. 2. 1. 2.]\n",
      " [2. 2. 1. 1. 2. 1. 1. 1. 2. 0.]\n",
      " [2. 1. 1. 1. 2. 1. 2. 1. 1. 0.]\n",
      " [1. 1. 1. 2. 1. 1. 2. 1. 2. 2.]\n",
      " [1. 1. 2. 1. 2. 2. 2. 2. 2. 2.]\n",
      " [2. 2. 1. 1. 2. 1. 2. 1. 2. 2.]\n",
      " [2. 1. 2. 2. 2. 2. 2. 2. 1. 2.]\n",
      " [1. 1. 1. 2. 2. 1. 1. 1. 2. 2.]]\n"
     ]
    }
   ],
   "source": [
    "### Generate a bunch of sequences to test the PCA analysis\n",
    "SequencesGenerated = 10\n",
    "Sequences = np.array([AnalysisSequence for i in range(SequencesGenerated)])\n",
    "\n",
    "for i in range(1,SequencesGenerated):\n",
    "    NewSequence = np.array([np.random.choice(Nucleotides, 10, p=[0.25, 0.25, 0.25, 0.25])])\n",
    "    Sequences[:][:][i] = NewSequence\n",
    "\n",
    "TransformedSequences = np.zeros((SequencesGenerated, Sequences.shape[2]))\n",
    "\n",
    "for i in range(SequencesGenerated):\n",
    "    TransformedSequences[i,:] = TransformSequence(Sequences[i,:,:], ReferenceSequence)\n",
    "\n",
    "print(TransformedSequences)"
   ]
  },
  {
   "cell_type": "markdown",
   "metadata": {},
   "source": [
    "Now we have the actual 1000 genome data, where we will translate and run PCA on"
   ]
  },
  {
   "cell_type": "code",
   "execution_count": null,
   "metadata": {},
   "outputs": [],
   "source": [
    "### Get the actual 1000 Genome 21st Chromosome data\n",
    "callset = allel.read_vcf('ALL.chr21.phase3_shapeit2_mvncall_integrated_v5a.20130502.genotypes.vcf.gz')"
   ]
  },
  {
   "cell_type": "code",
   "execution_count": null,
   "metadata": {},
   "outputs": [],
   "source": [
    "### Adjust the 0,1,2 matrix\n",
    "GT = callset['calldata/GT']\n",
    "GT[GT == 2] = 1\n",
    "GT[GT == 3] = 1\n",
    "ConvertedGT = np.sum(GT, axis=2)\n",
    "print(ConvertedGT.shape)"
   ]
  },
  {
   "cell_type": "markdown",
   "metadata": {},
   "source": [
    "Finally, we run the PCA"
   ]
  },
  {
   "cell_type": "code",
   "execution_count": null,
   "metadata": {},
   "outputs": [],
   "source": [
    "### Define PCA function (using code from my Lab 1)\n",
    "def PCA(M, d, k):\n",
    "    if (d == 0):\n",
    "        Row = True\n",
    "    elif (d == 1):\n",
    "        Row = False\n",
    "    else:\n",
    "        return 0\n",
    "    CovM = np.cov(M, rowvar = Row)\n",
    "    eVals, eVecs = np.linalg.eig(CovM)\n",
    "    CoefDet = eVals/sum(eVals)\n",
    "    \n",
    "    return eVecs[:,0:k], CoefDet[0:k]\n",
    "\n",
    "PC, CoefDet = PCA(ConvertedGT, 0, 2)"
   ]
  }
 ],
 "metadata": {
  "kernelspec": {
   "display_name": "Python 3",
   "language": "python",
   "name": "python3"
  },
  "language_info": {
   "codemirror_mode": {
    "name": "ipython",
    "version": 3
   },
   "file_extension": ".py",
   "mimetype": "text/x-python",
   "name": "python",
   "nbconvert_exporter": "python",
   "pygments_lexer": "ipython3",
   "version": "3.6.5"
  }
 },
 "nbformat": 4,
 "nbformat_minor": 2
}
