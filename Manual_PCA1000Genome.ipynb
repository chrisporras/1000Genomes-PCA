{
 "cells": [
  {
   "cell_type": "code",
   "execution_count": 7,
   "metadata": {},
   "outputs": [],
   "source": [
    "### Manual PCA Analysis\n",
    "### BIOS 26211 Final Project\n",
    "### Bruno Petrucci and Christian Porras\n",
    "\n",
    "import numpy as np\n",
    "import matplotlib.pyplot as plt "
   ]
  },
  {
   "cell_type": "code",
   "execution_count": 2,
   "metadata": {},
   "outputs": [],
   "source": [
    "### First create some Reference Sequence just to test the code\n",
    "Nucleotides = ['A', 'T', 'C', 'G']\n",
    "ReferenceSequence1 = np.array([np.random.choice(Nucleotides, 10, p=[0.25, 0.25, 0.25, 0.25])])\n",
    "ReferenceSequence2 = np.array([np.random.choice(Nucleotides, 10, p=[0.25, 0.25, 0.25, 0.25])])\n",
    "ReferenceSequence = np.append(ReferenceSequence1, ReferenceSequence2, axis=0)\n",
    "# Of course it's unrealistic for both of them to be random but it's just for testing - this will be the reference\n",
    "\n",
    "### Create some random sequence to compare\n",
    "AnalysisSequence1 = np.array([np.random.choice(Nucleotides, 10, p=[0.25, 0.25, 0.25, 0.25])])\n",
    "AnalysisSequence2 = np.array([np.random.choice(Nucleotides, 10, p=[0.25, 0.25, 0.25, 0.25])])\n",
    "AnalysisSequence = np.append(AnalysisSequence1, AnalysisSequence2, axis=0)"
   ]
  },
  {
   "cell_type": "code",
   "execution_count": 3,
   "metadata": {},
   "outputs": [],
   "source": [
    "### Define the function that transforms the sequence into a PCA-ble matrix\n",
    "def TransformSequence(Sequence, Reference):\n",
    "    Transform = np.zeros(Sequence.shape[1])\n",
    "    for i in range(Sequence.shape[1]):\n",
    "        if (Sequence[0][i] == Reference[0][i] and Sequence[1][i] == Reference[1][i]) or (Sequence[0][i] == Reference[1][i] and Sequence[1][i] == Reference[0][i]):\n",
    "            Transform[i] = 0\n",
    "        elif Sequence[0][i] == Reference[0][i] or Sequence[1][i] == Reference[1][i] or Sequence[0][i] == Reference[1][i] or Sequence[1][i] == Reference[0][i]:\n",
    "            Transform[i] = 1\n",
    "        else:\n",
    "            Transform[i] = 2\n",
    "        \n",
    "    return Transform"
   ]
  },
  {
   "cell_type": "code",
   "execution_count": 4,
   "metadata": {},
   "outputs": [
    {
     "name": "stdout",
     "output_type": "stream",
     "text": [
      "[['C' 'A' 'A' 'G' 'C' 'A' 'G' 'A' 'G' 'T']\n",
      " ['T' 'T' 'C' 'A' 'C' 'C' 'G' 'C' 'C' 'A']]\n",
      "[['G' 'C' 'G' 'T' 'T' 'A' 'A' 'T' 'C' 'C']\n",
      " ['G' 'A' 'C' 'A' 'T' 'C' 'A' 'T' 'G' 'C']]\n",
      "[2. 1. 1. 1. 2. 0. 2. 2. 0. 2.]\n"
     ]
    }
   ],
   "source": [
    "### Test for the sequences generated above\n",
    "print(ReferenceSequence)\n",
    "print(AnalysisSequence)\n",
    "TransformedSequence = TransformSequence(AnalysisSequence, ReferenceSequence)\n",
    "print(TransformedSequence)"
   ]
  },
  {
   "cell_type": "code",
   "execution_count": 5,
   "metadata": {},
   "outputs": [
    {
     "name": "stdout",
     "output_type": "stream",
     "text": [
      "[[2. 1. 1. 1. 2. 0. 2. 2. 0. 2.]\n",
      " [2. 1. 2. 1. 0. 1. 0. 1. 2. 1.]\n",
      " [2. 2. 1. 2. 2. 1. 2. 1. 1. 2.]\n",
      " [2. 2. 1. 1. 2. 1. 2. 2. 1. 1.]\n",
      " [2. 1. 2. 2. 2. 1. 2. 2. 1. 2.]\n",
      " [2. 2. 2. 1. 2. 2. 2. 1. 1. 1.]\n",
      " [1. 1. 1. 1. 2. 1. 0. 2. 2. 2.]\n",
      " [2. 1. 1. 1. 2. 2. 2. 1. 2. 1.]\n",
      " [1. 2. 1. 2. 2. 1. 2. 2. 1. 1.]\n",
      " [1. 2. 2. 1. 0. 2. 2. 2. 2. 1.]]\n"
     ]
    }
   ],
   "source": [
    "### Generate a bunch of sequences to test the PCA analysis\n",
    "SequencesGenerated = 10\n",
    "Sequences = np.array([AnalysisSequence for i in range(SequencesGenerated)])\n",
    "\n",
    "for i in range(1,SequencesGenerated):\n",
    "    NewSequence = np.array([np.random.choice(Nucleotides, 10, p=[0.25, 0.25, 0.25, 0.25])])\n",
    "    Sequences[:][:][i] = NewSequence\n",
    "\n",
    "TransformedSequences = np.zeros((SequencesGenerated, Sequences.shape[2]))\n",
    "\n",
    "for i in range(SequencesGenerated):\n",
    "    TransformedSequences[i,:] = TransformSequence(Sequences[i,:,:], ReferenceSequence)\n",
    "\n",
    "print(TransformedSequences)"
   ]
  },
  {
   "cell_type": "code",
   "execution_count": 8,
   "metadata": {},
   "outputs": [
    {
     "name": "stdout",
     "output_type": "stream",
     "text": [
      "[[ 0.59079586 -0.16439421]\n",
      " [-0.42902631 -0.26332424]\n",
      " [ 0.31386046  0.04488547]\n",
      " [ 0.28992672  0.19405931]\n",
      " [ 0.26517679 -0.16603357]\n",
      " [ 0.07213086  0.40423663]\n",
      " [-0.03991692 -0.67222674]\n",
      " [ 0.00632159  0.19892644]\n",
      " [ 0.27103436  0.16381836]\n",
      " [-0.36567234  0.39330623]]\n",
      "[0.40339125 0.20004579]\n"
     ]
    },
    {
     "data": {
      "text/plain": [
       "<function matplotlib.pyplot.show(*args, **kw)>"
      ]
     },
     "execution_count": 8,
     "metadata": {},
     "output_type": "execute_result"
    },
    {
     "data": {
      "image/png": "[encoded data removed]",
      "text/plain": [
       "<Figure size 432x288 with 1 Axes>"
      ]
     },
     "metadata": {},
     "output_type": "display_data"
    }
   ],
   "source": [
    "### Define PCA function (using code from my Lab 1)\n",
    "def PCA(M, d, k):\n",
    "    if (d == 0):\n",
    "        Row = True\n",
    "    elif (d == 1):\n",
    "        Row = False\n",
    "    else:\n",
    "        return 0\n",
    "    CovM = np.cov(M, rowvar = Row)\n",
    "    eVals, eVecs = np.linalg.eig(CovM)\n",
    "    CoefDet = eVals/sum(eVals)\n",
    "    \n",
    "    return eVecs[:,0:k], CoefDet[0:k]\n",
    "\n",
    "PC, CoefDet = PCA(TransformedSequences, 0, 2)\n",
    "\n",
    "print(PC)\n",
    "print(CoefDet)\n",
    "\n",
    "TransformedSequencesProj1 = TransformedSequences@PC[:, 0]\n",
    "TransformedSequencesProj2 = TransformedSequences@PC[:, 1]\n",
    "\n",
    "plt.scatter(TransformedSequencesProj1, TransformedSequencesProj2)\n",
    "plt.show"
   ]
  },
  {
   "cell_type": "code",
   "execution_count": 11,
   "metadata": {},
   "outputs": [
    {
     "name": "stdout",
     "output_type": "stream",
     "text": [
      "[  0 100 200 300 400]\n"
     ]
    }
   ],
   "source": [
    "A = np.array(range(500))\n",
    "print(A[A % 100 == 0])"
   ]
  }
 ],
 "metadata": {
  "kernelspec": {
   "display_name": "Python 3",
   "language": "python",
   "name": "python3"
  },
  "language_info": {
   "codemirror_mode": {
    "name": "ipython",
    "version": 3
   },
   "file_extension": ".py",
   "mimetype": "text/x-python",
   "name": "python",
   "nbconvert_exporter": "python",
   "pygments_lexer": "ipython3",
   "version": "3.6.5"
  }
 },
 "nbformat": 4,
 "nbformat_minor": 2
}
